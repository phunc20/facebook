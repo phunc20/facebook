{
 "cells": [
  {
   "cell_type": "code",
   "execution_count": 4,
   "id": "d2e6e555",
   "metadata": {},
   "outputs": [],
   "source": [
    "import sympy"
   ]
  },
  {
   "cell_type": "code",
   "execution_count": 20,
   "id": "cf3cd8c3",
   "metadata": {},
   "outputs": [],
   "source": [
    "import tensorflow as tf"
   ]
  },
  {
   "cell_type": "code",
   "execution_count": 18,
   "id": "35e22370",
   "metadata": {},
   "outputs": [
    {
     "name": "stdout",
     "output_type": "stream",
     "text": [
      "137 µs ± 11.2 µs per loop (mean ± std. dev. of 7 runs, 10000 loops each)\n"
     ]
    }
   ],
   "source": [
    "%timeit list(sympy.primerange(1,100))"
   ]
  },
  {
   "cell_type": "code",
   "execution_count": 19,
   "id": "0f8357ce",
   "metadata": {},
   "outputs": [
    {
     "name": "stdout",
     "output_type": "stream",
     "text": [
      "146 µs ± 16.2 µs per loop (mean ± std. dev. of 7 runs, 1000 loops each)\n"
     ]
    }
   ],
   "source": [
    "%timeit [p for p in sympy.primerange(1,100)]"
   ]
  },
  {
   "cell_type": "code",
   "execution_count": 11,
   "id": "32b829f5",
   "metadata": {},
   "outputs": [
    {
     "name": "stdout",
     "output_type": "stream",
     "text": [
      "Help on function primerange in module sympy.ntheory.generate:\n",
      "\n",
      "primerange(a, b)\n",
      "    Generate a list of all prime numbers in the range [a, b).\n",
      "    \n",
      "    If the range exists in the default sieve, the values will\n",
      "    be returned from there; otherwise values will be returned\n",
      "    but will not modify the sieve.\n",
      "    \n",
      "    Examples\n",
      "    ========\n",
      "    \n",
      "    >>> from sympy import primerange, sieve\n",
      "    >>> print([i for i in primerange(1, 30)])\n",
      "    [2, 3, 5, 7, 11, 13, 17, 19, 23, 29]\n",
      "    \n",
      "    The Sieve method, primerange, is generally faster but it will\n",
      "    occupy more memory as the sieve stores values. The default\n",
      "    instance of Sieve, named sieve, can be used:\n",
      "    \n",
      "    >>> list(sieve.primerange(1, 30))\n",
      "    [2, 3, 5, 7, 11, 13, 17, 19, 23, 29]\n",
      "    \n",
      "    Notes\n",
      "    =====\n",
      "    \n",
      "    Some famous conjectures about the occurrence of primes in a given\n",
      "    range are [1]:\n",
      "    \n",
      "    - Twin primes: though often not, the following will give 2 primes\n",
      "                an infinite number of times:\n",
      "                    primerange(6*n - 1, 6*n + 2)\n",
      "    - Legendre's: the following always yields at least one prime\n",
      "                    primerange(n**2, (n+1)**2+1)\n",
      "    - Bertrand's (proven): there is always a prime in the range\n",
      "                    primerange(n, 2*n)\n",
      "    - Brocard's: there are at least four primes in the range\n",
      "                    primerange(prime(n)**2, prime(n+1)**2)\n",
      "    \n",
      "    The average gap between primes is log(n) [2]; the gap between\n",
      "    primes can be arbitrarily large since sequences of composite\n",
      "    numbers are arbitrarily large, e.g. the numbers in the sequence\n",
      "    n! + 2, n! + 3 ... n! + n are all composite.\n",
      "    \n",
      "    See Also\n",
      "    ========\n",
      "    \n",
      "    nextprime : Return the ith prime greater than n\n",
      "    prevprime : Return the largest prime smaller than n\n",
      "    randprime : Returns a random prime in a given range\n",
      "    primorial : Returns the product of primes based on condition\n",
      "    Sieve.primerange : return range from already computed primes\n",
      "                       or extend the sieve to contain the requested\n",
      "                       range.\n",
      "    \n",
      "    References\n",
      "    ==========\n",
      "    \n",
      "    .. [1] https://en.wikipedia.org/wiki/Prime_number\n",
      "    .. [2] http://primes.utm.edu/notes/gaps.html\n",
      "\n"
     ]
    }
   ],
   "source": [
    "help(sympy.primerange)"
   ]
  },
  {
   "cell_type": "code",
   "execution_count": 9,
   "id": "86e1e890",
   "metadata": {},
   "outputs": [
    {
     "data": {
      "text/plain": [
       "[2, 3, 5, 7, 11]"
      ]
     },
     "execution_count": 9,
     "metadata": {},
     "output_type": "execute_result"
    }
   ],
   "source": [
    "list(sympy.primerange(1,12))"
   ]
  },
  {
   "cell_type": "markdown",
   "id": "54dff29f",
   "metadata": {},
   "source": [
    "Since the paper seems to\n",
    "- not only want the prime numbers\n",
    "- but also `1`\n",
    "\n",
    "we'd better start from `0` instead of from `1` (as `Chia-Yen Chiang` did)."
   ]
  },
  {
   "cell_type": "code",
   "execution_count": 10,
   "id": "e089fa16",
   "metadata": {},
   "outputs": [
    {
     "data": {
      "text/plain": [
       "[2, 3, 5, 7, 11]"
      ]
     },
     "execution_count": 10,
     "metadata": {},
     "output_type": "execute_result"
    }
   ],
   "source": [
    "list(sympy.primerange(0,13))"
   ]
  },
  {
   "cell_type": "markdown",
   "id": "b30cdf8e",
   "metadata": {},
   "source": [
    "No! But of course, `sympy` was right: `1` is not a prime.\n",
    "\n",
    "Let's see how `sympy` think when it comes to negative prime numbers."
   ]
  },
  {
   "cell_type": "code",
   "execution_count": 21,
   "id": "a1b34a25",
   "metadata": {},
   "outputs": [
    {
     "data": {
      "text/plain": [
       "[2, 3, 5, 7, 11]"
      ]
     },
     "execution_count": 21,
     "metadata": {},
     "output_type": "execute_result"
    }
   ],
   "source": [
    "list(sympy.primerange(-13,13))"
   ]
  },
  {
   "cell_type": "code",
   "execution_count": 24,
   "id": "c5f29184",
   "metadata": {},
   "outputs": [
    {
     "data": {
      "text/plain": [
       "[]"
      ]
     },
     "execution_count": 24,
     "metadata": {},
     "output_type": "execute_result"
    }
   ],
   "source": [
    "list(sympy.primerange(2,2))"
   ]
  },
  {
   "cell_type": "raw",
   "id": "50f4c1a0",
   "metadata": {},
   "source": [
    "def kernel_size_generator(k):\n",
    "    try:\n",
    "        k = int(k)\n",
    "    except Error as err:\n",
    "        print(err)\n",
    "    if k < 1:\n",
    "        raise ValueError(\"k should be >= 1\")\n",
    "    if k == 1:\n",
    "        yield 1\n",
    "    else:\n",
    "        yield 1\n",
    "        for p in sympy.primerange(2,k):\n",
    "            yield p"
   ]
  },
  {
   "cell_type": "raw",
   "id": "7ead90fc",
   "metadata": {},
   "source": [
    "list(kernel_size_generator(\"abc\"))"
   ]
  },
  {
   "cell_type": "code",
   "execution_count": 48,
   "id": "b01b61c5",
   "metadata": {},
   "outputs": [],
   "source": [
    "def kernel_size_generator(k):\n",
    "    try:\n",
    "        k = int(k)\n",
    "    except Exception as err:\n",
    "        raise err\n",
    "    else:\n",
    "        if k < 1:\n",
    "            raise ValueError(\"input arg k should be >= 1\")\n",
    "        if k == 1:\n",
    "            yield 1\n",
    "        else:\n",
    "            yield 1\n",
    "            for p in sympy.primerange(2,k):\n",
    "                yield p"
   ]
  },
  {
   "cell_type": "code",
   "execution_count": 49,
   "id": "794a0969",
   "metadata": {},
   "outputs": [
    {
     "ename": "ValueError",
     "evalue": "invalid literal for int() with base 10: 'abc'",
     "output_type": "error",
     "traceback": [
      "\u001b[0;31m---------------------------------------------------------------------------\u001b[0m",
      "\u001b[0;31mValueError\u001b[0m                                Traceback (most recent call last)",
      "\u001b[0;32m<ipython-input-49-7e0b6701609c>\u001b[0m in \u001b[0;36m<module>\u001b[0;34m\u001b[0m\n\u001b[0;32m----> 1\u001b[0;31m \u001b[0mlist\u001b[0m\u001b[0;34m(\u001b[0m\u001b[0mkernel_size_generator\u001b[0m\u001b[0;34m(\u001b[0m\u001b[0;34m\"abc\"\u001b[0m\u001b[0;34m)\u001b[0m\u001b[0;34m)\u001b[0m\u001b[0;34m\u001b[0m\u001b[0;34m\u001b[0m\u001b[0m\n\u001b[0m",
      "\u001b[0;32m<ipython-input-48-b6a715a42b5b>\u001b[0m in \u001b[0;36mkernel_size_generator\u001b[0;34m(k)\u001b[0m\n\u001b[1;32m      3\u001b[0m         \u001b[0mk\u001b[0m \u001b[0;34m=\u001b[0m \u001b[0mint\u001b[0m\u001b[0;34m(\u001b[0m\u001b[0mk\u001b[0m\u001b[0;34m)\u001b[0m\u001b[0;34m\u001b[0m\u001b[0;34m\u001b[0m\u001b[0m\n\u001b[1;32m      4\u001b[0m     \u001b[0;32mexcept\u001b[0m \u001b[0mException\u001b[0m \u001b[0;32mas\u001b[0m \u001b[0merr\u001b[0m\u001b[0;34m:\u001b[0m\u001b[0;34m\u001b[0m\u001b[0;34m\u001b[0m\u001b[0m\n\u001b[0;32m----> 5\u001b[0;31m         \u001b[0;32mraise\u001b[0m \u001b[0merr\u001b[0m\u001b[0;34m\u001b[0m\u001b[0;34m\u001b[0m\u001b[0m\n\u001b[0m\u001b[1;32m      6\u001b[0m     \u001b[0;32melse\u001b[0m\u001b[0;34m:\u001b[0m\u001b[0;34m\u001b[0m\u001b[0;34m\u001b[0m\u001b[0m\n\u001b[1;32m      7\u001b[0m         \u001b[0;32mif\u001b[0m \u001b[0mk\u001b[0m \u001b[0;34m<\u001b[0m \u001b[0;36m1\u001b[0m\u001b[0;34m:\u001b[0m\u001b[0;34m\u001b[0m\u001b[0;34m\u001b[0m\u001b[0m\n",
      "\u001b[0;32m<ipython-input-48-b6a715a42b5b>\u001b[0m in \u001b[0;36mkernel_size_generator\u001b[0;34m(k)\u001b[0m\n\u001b[1;32m      1\u001b[0m \u001b[0;32mdef\u001b[0m \u001b[0mkernel_size_generator\u001b[0m\u001b[0;34m(\u001b[0m\u001b[0mk\u001b[0m\u001b[0;34m)\u001b[0m\u001b[0;34m:\u001b[0m\u001b[0;34m\u001b[0m\u001b[0;34m\u001b[0m\u001b[0m\n\u001b[1;32m      2\u001b[0m     \u001b[0;32mtry\u001b[0m\u001b[0;34m:\u001b[0m\u001b[0;34m\u001b[0m\u001b[0;34m\u001b[0m\u001b[0m\n\u001b[0;32m----> 3\u001b[0;31m         \u001b[0mk\u001b[0m \u001b[0;34m=\u001b[0m \u001b[0mint\u001b[0m\u001b[0;34m(\u001b[0m\u001b[0mk\u001b[0m\u001b[0;34m)\u001b[0m\u001b[0;34m\u001b[0m\u001b[0;34m\u001b[0m\u001b[0m\n\u001b[0m\u001b[1;32m      4\u001b[0m     \u001b[0;32mexcept\u001b[0m \u001b[0mException\u001b[0m \u001b[0;32mas\u001b[0m \u001b[0merr\u001b[0m\u001b[0;34m:\u001b[0m\u001b[0;34m\u001b[0m\u001b[0;34m\u001b[0m\u001b[0m\n\u001b[1;32m      5\u001b[0m         \u001b[0;32mraise\u001b[0m \u001b[0merr\u001b[0m\u001b[0;34m\u001b[0m\u001b[0;34m\u001b[0m\u001b[0m\n",
      "\u001b[0;31mValueError\u001b[0m: invalid literal for int() with base 10: 'abc'"
     ]
    }
   ],
   "source": [
    "list(kernel_size_generator(\"abc\"))"
   ]
  },
  {
   "cell_type": "code",
   "execution_count": 50,
   "id": "f52deeb2",
   "metadata": {},
   "outputs": [
    {
     "ename": "ValueError",
     "evalue": "input arg k should be >= 1",
     "output_type": "error",
     "traceback": [
      "\u001b[0;31m---------------------------------------------------------------------------\u001b[0m",
      "\u001b[0;31mValueError\u001b[0m                                Traceback (most recent call last)",
      "\u001b[0;32m<ipython-input-50-2e31b1c5290e>\u001b[0m in \u001b[0;36m<module>\u001b[0;34m\u001b[0m\n\u001b[0;32m----> 1\u001b[0;31m \u001b[0mlist\u001b[0m\u001b[0;34m(\u001b[0m\u001b[0mkernel_size_generator\u001b[0m\u001b[0;34m(\u001b[0m\u001b[0;34m-\u001b[0m\u001b[0;36m10\u001b[0m\u001b[0;34m)\u001b[0m\u001b[0;34m)\u001b[0m\u001b[0;34m\u001b[0m\u001b[0;34m\u001b[0m\u001b[0m\n\u001b[0m",
      "\u001b[0;32m<ipython-input-48-b6a715a42b5b>\u001b[0m in \u001b[0;36mkernel_size_generator\u001b[0;34m(k)\u001b[0m\n\u001b[1;32m      6\u001b[0m     \u001b[0;32melse\u001b[0m\u001b[0;34m:\u001b[0m\u001b[0;34m\u001b[0m\u001b[0;34m\u001b[0m\u001b[0m\n\u001b[1;32m      7\u001b[0m         \u001b[0;32mif\u001b[0m \u001b[0mk\u001b[0m \u001b[0;34m<\u001b[0m \u001b[0;36m1\u001b[0m\u001b[0;34m:\u001b[0m\u001b[0;34m\u001b[0m\u001b[0;34m\u001b[0m\u001b[0m\n\u001b[0;32m----> 8\u001b[0;31m             \u001b[0;32mraise\u001b[0m \u001b[0mValueError\u001b[0m\u001b[0;34m(\u001b[0m\u001b[0;34m\"input arg k should be >= 1\"\u001b[0m\u001b[0;34m)\u001b[0m\u001b[0;34m\u001b[0m\u001b[0;34m\u001b[0m\u001b[0m\n\u001b[0m\u001b[1;32m      9\u001b[0m         \u001b[0;32mif\u001b[0m \u001b[0mk\u001b[0m \u001b[0;34m==\u001b[0m \u001b[0;36m1\u001b[0m\u001b[0;34m:\u001b[0m\u001b[0;34m\u001b[0m\u001b[0;34m\u001b[0m\u001b[0m\n\u001b[1;32m     10\u001b[0m             \u001b[0;32myield\u001b[0m \u001b[0;36m1\u001b[0m\u001b[0;34m\u001b[0m\u001b[0;34m\u001b[0m\u001b[0m\n",
      "\u001b[0;31mValueError\u001b[0m: input arg k should be >= 1"
     ]
    }
   ],
   "source": [
    "list(kernel_size_generator(-10))"
   ]
  },
  {
   "cell_type": "code",
   "execution_count": 51,
   "id": "0d2c2a4e",
   "metadata": {},
   "outputs": [
    {
     "data": {
      "text/plain": [
       "[1, 2]"
      ]
     },
     "execution_count": 51,
     "metadata": {},
     "output_type": "execute_result"
    }
   ],
   "source": [
    "list(kernel_size_generator(3.14))"
   ]
  },
  {
   "cell_type": "code",
   "execution_count": 52,
   "id": "df5e25f2",
   "metadata": {},
   "outputs": [
    {
     "data": {
      "text/plain": [
       "[1, 2, 3, 5, 7, 11]"
      ]
     },
     "execution_count": 52,
     "metadata": {},
     "output_type": "execute_result"
    }
   ],
   "source": [
    "list(kernel_size_generator(13))"
   ]
  },
  {
   "cell_type": "code",
   "execution_count": null,
   "id": "03bb4f3c",
   "metadata": {},
   "outputs": [],
   "source": []
  }
 ],
 "metadata": {
  "kernelspec": {
   "display_name": "Python 3",
   "language": "python",
   "name": "python3"
  },
  "language_info": {
   "codemirror_mode": {
    "name": "ipython",
    "version": 3
   },
   "file_extension": ".py",
   "mimetype": "text/x-python",
   "name": "python",
   "nbconvert_exporter": "python",
   "pygments_lexer": "ipython3",
   "version": "3.7.7"
  }
 },
 "nbformat": 4,
 "nbformat_minor": 5
}
