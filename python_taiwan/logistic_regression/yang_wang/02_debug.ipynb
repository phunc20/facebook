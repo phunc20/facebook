{
 "cells": [
  {
   "cell_type": "markdown",
   "id": "specific-mozambique",
   "metadata": {},
   "source": [
    "### First, let's add more features to see if that will improve."
   ]
  },
  {
   "cell_type": "code",
   "execution_count": 1,
   "id": "shaped-front",
   "metadata": {},
   "outputs": [],
   "source": [
    "from sklearn import datasets\n",
    "import numpy as np"
   ]
  },
  {
   "cell_type": "code",
   "execution_count": 2,
   "id": "appropriate-command",
   "metadata": {},
   "outputs": [
    {
     "data": {
      "text/plain": [
       "((150, 4), (150,))"
      ]
     },
     "execution_count": 2,
     "metadata": {},
     "output_type": "execute_result"
    }
   ],
   "source": [
    "iris = datasets.load_iris()\n",
    "#X = iris[\"data\"][:,3:]  # petal width\n",
    "X = iris[\"data\"][:,:]\n",
    "y = (iris[\"target\"]==2).astype(np.int)\n",
    "X.shape, y.shape"
   ]
  },
  {
   "cell_type": "code",
   "execution_count": 3,
   "id": "specific-suite",
   "metadata": {},
   "outputs": [
    {
     "data": {
      "text/plain": [
       "((108, 4), (27, 4), (15, 4))"
      ]
     },
     "execution_count": 3,
     "metadata": {},
     "output_type": "execute_result"
    }
   ],
   "source": [
    "from sklearn.model_selection import train_test_split\n",
    "\n",
    "X_train, X_test, y_train, y_test = train_test_split(X, y, test_size=0.1, random_state=42)\n",
    "X_train, X_val, y_train, y_val = train_test_split(X_train, y_train, test_size=0.2, random_state=42)\n",
    "X_train.shape, X_val.shape, X_test.shape"
   ]
  },
  {
   "cell_type": "code",
   "execution_count": 4,
   "id": "pacific-steering",
   "metadata": {},
   "outputs": [],
   "source": [
    "def sigmoid(z):\n",
    "    return 1 / (1 + np.exp(-z))"
   ]
  },
  {
   "cell_type": "code",
   "execution_count": 5,
   "id": "centered-buddy",
   "metadata": {},
   "outputs": [],
   "source": [
    "def binary_loss(X, Y, weights, alpha=0.00001):\n",
    "    \"\"\"\n",
    "    X.shape = (num_instances, num_features)\n",
    "    Y.shape = (num_instances,)\n",
    "    weights.shape = (num_features,)\n",
    "    \"\"\"\n",
    "    z = np.dot(X, weights)\n",
    "    h = sigmoid(z)\n",
    "    total_cost = (-Y*np.log(h) - (1-Y)*np.log(1-h)).mean() + alpha * np.sum(np.dot(weights, weights.T))\n",
    "    return total_cost"
   ]
  },
  {
   "cell_type": "code",
   "execution_count": 6,
   "id": "united-selection",
   "metadata": {},
   "outputs": [],
   "source": [
    "from sklearn.preprocessing import MinMaxScaler, StandardScaler\n",
    "\n",
    "def SGD(X_tr, Y_tr, X_dev=[], Y_dev=[], lr=0.1, alpha=0.00001, epochs=5, tolerance=0.0001, print_progress=True):\n",
    "    train_loss_history, val_loss_history = [], []\n",
    "    num_features = X_tr.shape[1]\n",
    "    #weights = np.zeros(shape=(num_features,), dtype=np.float64)\n",
    "    weights = np.random.randn(num_features)\n",
    "    clip_value = 1e-9\n",
    "    #X_tr = np.clip(X_tr, clip_value, 1-clip_value)\n",
    "    mms = MinMaxScaler()\n",
    "    #mms = StandardScaler()\n",
    "    X_tr = mms.fit_transform(X_tr)\n",
    "    for epoch in range(epochs):\n",
    "        indices = np.arange(X_tr.shape[0])\n",
    "        np.random.shuffle(indices)\n",
    "        X_tr = X_tr[indices]\n",
    "        Y_tr = Y_tr[indices]\n",
    "\n",
    "        # training loop\n",
    "        train_loss = 0\n",
    "        for idx, row in enumerate(X_tr):\n",
    "            row = np.reshape(row, (1, num_features))\n",
    "            train_loss += binary_loss(row, Y_tr[idx], weights, alpha)\n",
    "            for i in range(len(row)):\n",
    "                gradient = (sigmoid(row @ weights) - float(Y_tr[idx])) * row[0, i] + alpha*weights[i]\n",
    "                weights[i] = weights[i] - lr*gradient\n",
    "        train_loss /= X_tr.shape[0]\n",
    "        train_loss_history.append(train_loss)\n",
    "\n",
    "        if len(X_dev) != 0 and len(Y_dev) != 0:\n",
    "            X_dev = mms.transform(X_dev)\n",
    "            val_loss = binary_loss(X_dev, Y_dev, weights, alpha)\n",
    "            val_loss_history.append(val_loss)\n",
    "\n",
    "            if print_progress:\n",
    "                print(f\"Epoch: {epoch+1}\")\n",
    "                print(f\"Training loss:   {train_loss:.4f}\")\n",
    "                print(f\"Validation loss: {val_loss:.4f}\")\n",
    "\n",
    "            # Wang seems to want the training process to stop when the progress becomes no longer significant.\n",
    "            if epoch >=1:\n",
    "                if np.abs(val_loss_history[epoch]-val_loss_history[epoch-1]) < tolerance:\n",
    "                    break\n",
    "\n",
    "    return weights, train_loss_history, val_loss_history"
   ]
  },
  {
   "cell_type": "code",
   "execution_count": 7,
   "id": "suitable-smooth",
   "metadata": {},
   "outputs": [],
   "source": [
    "n_epochs = 100\n",
    "w, train_hist, val_hist = SGD(X_train, y_train, X_dev=X_val, Y_dev=y_val, epochs=n_epochs, print_progress=False)"
   ]
  },
  {
   "cell_type": "code",
   "execution_count": 8,
   "id": "advised-knowing",
   "metadata": {},
   "outputs": [
    {
     "data": {
      "image/png": "[encoded data removed]",
      "text/plain": [
       "<Figure size 432x288 with 1 Axes>"
      ]
     },
     "metadata": {
      "needs_background": "light"
     },
     "output_type": "display_data"
    }
   ],
   "source": [
    "import matplotlib.pyplot as plt\n",
    "x = range(1, len(train_hist)+1)\n",
    "plt.plot(x, train_hist, label=\"train_loss\")\n",
    "plt.plot(x, val_hist, label=\"val_loss\")\n",
    "plt.legend();"
   ]
  },
  {
   "cell_type": "code",
   "execution_count": 9,
   "id": "moderate-savings",
   "metadata": {},
   "outputs": [],
   "source": [
    "#prediction = "
   ]
  },
  {
   "cell_type": "code",
   "execution_count": null,
   "id": "political-footwear",
   "metadata": {},
   "outputs": [],
   "source": []
  },
  {
   "cell_type": "markdown",
   "id": "beautiful-consent",
   "metadata": {},
   "source": [
    "### Let's try to train with `LogisticRegression`"
   ]
  },
  {
   "cell_type": "code",
   "execution_count": 10,
   "id": "dated-credits",
   "metadata": {},
   "outputs": [
    {
     "data": {
      "text/plain": [
       "LogisticRegression()"
      ]
     },
     "execution_count": 10,
     "metadata": {},
     "output_type": "execute_result"
    }
   ],
   "source": [
    "from sklearn.linear_model import LogisticRegression\n",
    "log_reg = LogisticRegression()\n",
    "log_reg.fit(X_train, y_train)"
   ]
  },
  {
   "cell_type": "code",
   "execution_count": 11,
   "id": "viral-complexity",
   "metadata": {},
   "outputs": [],
   "source": [
    "from sklearn.metrics import confusion_matrix"
   ]
  },
  {
   "cell_type": "code",
   "execution_count": 12,
   "id": "suspended-rhythm",
   "metadata": {},
   "outputs": [
    {
     "data": {
      "text/plain": [
       "array([[17,  0],\n",
       "       [ 0, 10]])"
      ]
     },
     "execution_count": 12,
     "metadata": {},
     "output_type": "execute_result"
    }
   ],
   "source": [
    "y_val_pred = log_reg.predict(X_val)\n",
    "confusion_matrix(y_val, y_val_pred)"
   ]
  },
  {
   "cell_type": "code",
   "execution_count": 13,
   "id": "exciting-sphere",
   "metadata": {},
   "outputs": [
    {
     "data": {
      "text/plain": [
       "array([[12,  0],\n",
       "       [ 0,  3]])"
      ]
     },
     "execution_count": 13,
     "metadata": {},
     "output_type": "execute_result"
    }
   ],
   "source": [
    "y_test_pred = log_reg.predict(X_test)\n",
    "confusion_matrix(y_test, y_test_pred)"
   ]
  },
  {
   "cell_type": "markdown",
   "id": "handy-failing",
   "metadata": {},
   "source": [
    "### Bias term\n",
    "Maybe the problem was that we do not manually add a bias term?"
   ]
  },
  {
   "cell_type": "code",
   "execution_count": 14,
   "id": "actual-manual",
   "metadata": {},
   "outputs": [
    {
     "data": {
      "text/plain": [
       "(108, 4)"
      ]
     },
     "execution_count": 14,
     "metadata": {},
     "output_type": "execute_result"
    }
   ],
   "source": [
    "X_train.shape"
   ]
  },
  {
   "cell_type": "code",
   "execution_count": 15,
   "id": "lightweight-catholic",
   "metadata": {},
   "outputs": [
    {
     "data": {
      "text/plain": [
       "(108, 5)"
      ]
     },
     "execution_count": 15,
     "metadata": {},
     "output_type": "execute_result"
    }
   ],
   "source": [
    "X_t = np.hstack([X_train, np.ones((X_train.shape[0], 1))])\n",
    "X_t.shape"
   ]
  },
  {
   "cell_type": "code",
   "execution_count": 16,
   "id": "brief-season",
   "metadata": {},
   "outputs": [
    {
     "data": {
      "text/plain": [
       "(27, 5)"
      ]
     },
     "execution_count": 16,
     "metadata": {},
     "output_type": "execute_result"
    }
   ],
   "source": [
    "X_v = np.hstack([X_val, np.ones((X_val.shape[0], 1))])\n",
    "X_v.shape"
   ]
  },
  {
   "cell_type": "code",
   "execution_count": 79,
   "id": "applicable-garlic",
   "metadata": {},
   "outputs": [
    {
     "data": {
      "text/plain": [
       "(15, 5)"
      ]
     },
     "execution_count": 79,
     "metadata": {},
     "output_type": "execute_result"
    }
   ],
   "source": [
    "X_te = np.hstack([X_test, np.ones((X_test.shape[0], 1))])\n",
    "X_te.shape"
   ]
  },
  {
   "cell_type": "code",
   "execution_count": 17,
   "id": "naughty-sociology",
   "metadata": {},
   "outputs": [],
   "source": [
    "n_epochs = 100\n",
    "w, train_hist, val_hist = SGD(X_t, y_train, X_dev=X_v, Y_dev=y_val, epochs=n_epochs, print_progress=False)"
   ]
  },
  {
   "cell_type": "code",
   "execution_count": 20,
   "id": "auburn-start",
   "metadata": {},
   "outputs": [
    {
     "data": {
      "image/png": "[encoded data removed]",
      "text/plain": [
       "<Figure size 432x288 with 1 Axes>"
      ]
     },
     "metadata": {
      "needs_background": "light"
     },
     "output_type": "display_data"
    }
   ],
   "source": [
    "import matplotlib.pyplot as plt\n",
    "x = range(1, len(train_hist)+1)\n",
    "plt.plot(x, train_hist, label=\"train_loss\")\n",
    "plt.plot(x, val_hist, label=\"val_loss\")\n",
    "plt.legend();"
   ]
  },
  {
   "cell_type": "markdown",
   "id": "included-nursing",
   "metadata": {},
   "source": [
    "No, this is not where the problem lies."
   ]
  },
  {
   "cell_type": "markdown",
   "id": "compact-liabilities",
   "metadata": {},
   "source": [
    "### The most suspectible being the function `SGD()`\n",
    "Let's look closer into this function."
   ]
  },
  {
   "cell_type": "markdown",
   "id": "postal-investment",
   "metadata": {},
   "source": [
    "### No `clip()`"
   ]
  },
  {
   "cell_type": "markdown",
   "id": "reserved-vintage",
   "metadata": {},
   "source": [
    "- It is weird to `clip()` the training data values unless we are really sure about the range of our data values\n",
    "  - I don't know the originally NLP dataset, but `clip()` is not suitable for Iris dataset here."
   ]
  },
  {
   "cell_type": "code",
   "execution_count": 21,
   "id": "timely-seeker",
   "metadata": {},
   "outputs": [
    {
     "data": {
      "text/plain": [
       "(0, 10)"
      ]
     },
     "execution_count": 21,
     "metadata": {},
     "output_type": "execute_result"
    }
   ],
   "source": [
    "np.clip(-7, 0, 10), np.clip(38, 0, 10)"
   ]
  },
  {
   "cell_type": "code",
   "execution_count": 22,
   "id": "viral-spring",
   "metadata": {},
   "outputs": [
    {
     "data": {
      "text/plain": [
       "array([[6.7, 2.5, 5.8, 1.8],\n",
       "       [5.7, 2.8, 4.1, 1.3],\n",
       "       [5.5, 2.5, 4. , 1.3],\n",
       "       [5.2, 2.7, 3.9, 1.4],\n",
       "       [6. , 2.2, 5. , 1.5],\n",
       "       [7.6, 3. , 6.6, 2.1],\n",
       "       [6.3, 3.3, 4.7, 1.6],\n",
       "       [5.5, 2.4, 3.8, 1.1],\n",
       "       [5.5, 4.2, 1.4, 0.2],\n",
       "       [5.2, 4.1, 1.5, 0.1]])"
      ]
     },
     "execution_count": 22,
     "metadata": {},
     "output_type": "execute_result"
    }
   ],
   "source": [
    "X_train[:10, :]"
   ]
  },
  {
   "cell_type": "markdown",
   "id": "elegant-chinese",
   "metadata": {},
   "source": [
    "Problems in the function `SGD()`:\n",
    "- The training loss is no longer quite accurate, albeit acceptable. In particular, it is unfair to compare `val_loss` with `train_loss`; only looking the history exclusively within each one makes sense.\n",
    "- $\\frac{\\partial L}{\\partial w_i} = (h-y)x_i + 2\\alpha w_i\\quad$ if $\\quad L = -y\\log h - (1-y)\\log (1-h) + \\alpha \\lVert w \\rVert^2$"
   ]
  },
  {
   "cell_type": "code",
   "execution_count": 26,
   "id": "iraqi-english",
   "metadata": {},
   "outputs": [
    {
     "data": {
      "text/plain": [
       "(array([[0, 1, 2]]), array([ 0.42646796, -0.41958437,  0.99195053]))"
      ]
     },
     "execution_count": 26,
     "metadata": {},
     "output_type": "execute_result"
    }
   ],
   "source": [
    "row = np.arange(1*3).reshape((1,3))\n",
    "weights = np.random.randn(3)\n",
    "row, weights"
   ]
  },
  {
   "cell_type": "code",
   "execution_count": 27,
   "id": "exposed-wheat",
   "metadata": {},
   "outputs": [
    {
     "data": {
      "text/plain": [
       "array([1.5643167])"
      ]
     },
     "execution_count": 27,
     "metadata": {},
     "output_type": "execute_result"
    }
   ],
   "source": [
    "row @ weights"
   ]
  },
  {
   "cell_type": "code",
   "execution_count": 178,
   "id": "hawaiian-saudi",
   "metadata": {},
   "outputs": [
    {
     "data": {
      "text/plain": [
       "array([1.5643167])"
      ]
     },
     "execution_count": 178,
     "metadata": {},
     "output_type": "execute_result"
    }
   ],
   "source": [
    "np.dot(row, weights)"
   ]
  },
  {
   "cell_type": "code",
   "execution_count": 179,
   "id": "tender-contrast",
   "metadata": {},
   "outputs": [],
   "source": [
    "def SGD(X_tr, Y_tr, X_dev=[], Y_dev=[], lr=0.1, alpha=0.00001, epochs=5, tolerance=0.0001, print_progress=True):\n",
    "    train_loss_history, val_loss_history = [], []\n",
    "    num_features = X_tr.shape[1]\n",
    "    #weights = np.zeros(shape=(num_features,), dtype=np.float64)\n",
    "    weights = np.random.randn(num_features)\n",
    "    #clip_value = 1e-9\n",
    "    #X_tr = np.clip(X_tr, clip_value, 1-clip_value)\n",
    "    mms = MinMaxScaler()\n",
    "    #mms = StandardScaler()\n",
    "    X_tr = mms.fit_transform(X_tr)\n",
    "    for epoch in range(epochs):\n",
    "        indices = np.arange(X_tr.shape[0])\n",
    "        np.random.shuffle(indices)\n",
    "        X_tr = X_tr[indices]\n",
    "        Y_tr = Y_tr[indices]\n",
    "\n",
    "        # training loop\n",
    "        train_loss = 0\n",
    "        for idx, row in enumerate(X_tr):\n",
    "            row = np.reshape(row, (1, num_features))\n",
    "            train_loss += binary_loss(row, Y_tr[idx], weights, alpha)\n",
    "            for i in range(len(row)):\n",
    "                gradient = (sigmoid(row @ weights) - float(Y_tr[idx])) * row[0, i] + alpha*weights[i]*2\n",
    "                weights[i] -= lr*gradient\n",
    "        train_loss /= X_tr.shape[0]\n",
    "        train_loss_history.append(train_loss)\n",
    "\n",
    "        if len(X_dev) != 0 and len(Y_dev) != 0:\n",
    "            X_dev = mms.transform(X_dev)\n",
    "            val_loss = binary_loss(X_dev, Y_dev, weights, alpha)\n",
    "            val_loss_history.append(val_loss)\n",
    "\n",
    "            if print_progress:\n",
    "                print(f\"Epoch: {epoch+1}\")\n",
    "                print(f\"Training loss:   {train_loss:.4f}\")\n",
    "                print(f\"Validation loss: {val_loss:.4f}\")\n",
    "\n",
    "            # Wang seems to want the training process to stop when the progress becomes no longer significant.\n",
    "            #if epoch >=1:\n",
    "            #    if np.abs(val_loss_history[epoch]-val_loss_history[epoch-1]) < tolerance:\n",
    "            #        break\n",
    "\n",
    "    return weights, train_loss_history, val_loss_history"
   ]
  },
  {
   "cell_type": "code",
   "execution_count": 180,
   "id": "premium-label",
   "metadata": {},
   "outputs": [],
   "source": [
    "#w, train_hist, val_hist = SGD(X_train, y_train, X_dev=X_val, Y_dev=y_val, epochs=n_epochs, print_progress=False)\n",
    "w, train_hist, val_hist = SGD(X_train, y_train, X_dev=X_val, Y_dev=y_val, epochs=n_epochs, print_progress=False, alpha=0)"
   ]
  },
  {
   "cell_type": "code",
   "execution_count": 181,
   "id": "dynamic-maria",
   "metadata": {},
   "outputs": [
    {
     "data": {
      "image/png": "[encoded data removed]",
      "text/plain": [
       "<Figure size 432x288 with 1 Axes>"
      ]
     },
     "metadata": {
      "needs_background": "light"
     },
     "output_type": "display_data"
    }
   ],
   "source": [
    "x = range(1, len(train_hist)+1)\n",
    "plt.plot(x, train_hist, label=\"train_loss\")\n",
    "plt.plot(x, val_hist, label=\"val_loss\")\n",
    "plt.legend();"
   ]
  },
  {
   "cell_type": "code",
   "execution_count": 182,
   "id": "tight-norwegian",
   "metadata": {},
   "outputs": [
    {
     "data": {
      "text/plain": [
       "array([1, 1, 1, 1, 1, 1, 1, 1, 0, 0, 0, 1, 1, 0, 1, 1, 0, 1, 1, 0, 0, 1,\n",
       "       1, 0, 1, 1, 0, 1, 1, 0, 1, 1, 1, 0, 0, 1, 0, 1, 1, 1, 1, 1, 0, 0,\n",
       "       0, 1, 0, 1, 1, 0, 1, 1, 0, 0, 0, 1, 1, 1, 0, 1, 1, 0, 1, 0, 1, 1,\n",
       "       0, 1, 1, 1, 0, 1, 0, 0, 1, 1, 1, 0, 1, 0, 1, 0, 1, 1, 0, 1, 1, 1,\n",
       "       1, 1, 1, 0, 0, 0, 1, 0, 1, 1, 0, 0, 1, 1, 1, 1, 0, 0, 1, 1])"
      ]
     },
     "execution_count": 182,
     "metadata": {},
     "output_type": "execute_result"
    }
   ],
   "source": [
    "y_train_pred = (sigmoid(X_train @ w) > 0.5).astype(np.int)\n",
    "y_train_pred"
   ]
  },
  {
   "cell_type": "code",
   "execution_count": 183,
   "id": "professional-intranet",
   "metadata": {},
   "outputs": [
    {
     "data": {
      "text/plain": [
       "array([[40, 31],\n",
       "       [ 0, 37]])"
      ]
     },
     "execution_count": 183,
     "metadata": {},
     "output_type": "execute_result"
    }
   ],
   "source": [
    "confusion_matrix(y_train, y_train_pred)"
   ]
  },
  {
   "cell_type": "code",
   "execution_count": 184,
   "id": "filled-excerpt",
   "metadata": {},
   "outputs": [
    {
     "data": {
      "text/plain": [
       "array([1, 0, 1, 0, 0, 1, 1, 1, 1, 1, 1, 1, 1, 1, 0, 1, 1, 1, 1, 0, 0, 1,\n",
       "       0, 0, 1, 1, 1])"
      ]
     },
     "execution_count": 184,
     "metadata": {},
     "output_type": "execute_result"
    }
   ],
   "source": [
    "y_val_pred = (sigmoid(X_val @ w) > 0.5).astype(np.int)\n",
    "y_val_pred"
   ]
  },
  {
   "cell_type": "code",
   "execution_count": 185,
   "id": "advance-reconstruction",
   "metadata": {},
   "outputs": [
    {
     "data": {
      "text/plain": [
       "array([[ 8,  9],\n",
       "       [ 0, 10]])"
      ]
     },
     "execution_count": 185,
     "metadata": {},
     "output_type": "execute_result"
    }
   ],
   "source": [
    "confusion_matrix(y_val, y_val_pred)"
   ]
  },
  {
   "cell_type": "code",
   "execution_count": 186,
   "id": "induced-communist",
   "metadata": {},
   "outputs": [
    {
     "data": {
      "text/plain": [
       "array([1, 0, 1, 1, 1, 0, 0, 1, 1, 1, 1, 0, 0, 0, 0])"
      ]
     },
     "execution_count": 186,
     "metadata": {},
     "output_type": "execute_result"
    }
   ],
   "source": [
    "y_test_pred = (sigmoid(X_test @ w) > 0.5).astype(np.int)\n",
    "y_test_pred"
   ]
  },
  {
   "cell_type": "code",
   "execution_count": 187,
   "id": "hazardous-sacrifice",
   "metadata": {},
   "outputs": [
    {
     "data": {
      "text/plain": [
       "array([[7, 5],\n",
       "       [0, 3]])"
      ]
     },
     "execution_count": 187,
     "metadata": {},
     "output_type": "execute_result"
    }
   ],
   "source": [
    "confusion_matrix(y_test, y_test_pred)"
   ]
  },
  {
   "cell_type": "code",
   "execution_count": 188,
   "id": "august-techno",
   "metadata": {},
   "outputs": [
    {
     "name": "stderr",
     "output_type": "stream",
     "text": [
      "/home/phunc20/.config/miniconda3/envs/homl-1e/lib/python3.7/site-packages/ipykernel_launcher.py:9: RuntimeWarning: divide by zero encountered in log\n",
      "  if __name__ == '__main__':\n",
      "/home/phunc20/.config/miniconda3/envs/homl-1e/lib/python3.7/site-packages/ipykernel_launcher.py:9: RuntimeWarning: invalid value encountered in multiply\n",
      "  if __name__ == '__main__':\n",
      "/home/phunc20/.config/miniconda3/envs/homl-1e/lib/python3.7/site-packages/ipykernel_launcher.py:9: RuntimeWarning: divide by zero encountered in log\n",
      "  if __name__ == '__main__':\n",
      "/home/phunc20/.config/miniconda3/envs/homl-1e/lib/python3.7/site-packages/ipykernel_launcher.py:9: RuntimeWarning: invalid value encountered in multiply\n",
      "  if __name__ == '__main__':\n",
      "/home/phunc20/.config/miniconda3/envs/homl-1e/lib/python3.7/site-packages/ipykernel_launcher.py:9: RuntimeWarning: divide by zero encountered in log\n",
      "  if __name__ == '__main__':\n",
      "/home/phunc20/.config/miniconda3/envs/homl-1e/lib/python3.7/site-packages/ipykernel_launcher.py:9: RuntimeWarning: invalid value encountered in multiply\n",
      "  if __name__ == '__main__':\n",
      "/home/phunc20/.config/miniconda3/envs/homl-1e/lib/python3.7/site-packages/ipykernel_launcher.py:9: RuntimeWarning: divide by zero encountered in log\n",
      "  if __name__ == '__main__':\n",
      "/home/phunc20/.config/miniconda3/envs/homl-1e/lib/python3.7/site-packages/ipykernel_launcher.py:9: RuntimeWarning: invalid value encountered in multiply\n",
      "  if __name__ == '__main__':\n",
      "/home/phunc20/.config/miniconda3/envs/homl-1e/lib/python3.7/site-packages/ipykernel_launcher.py:9: RuntimeWarning: divide by zero encountered in log\n",
      "  if __name__ == '__main__':\n",
      "/home/phunc20/.config/miniconda3/envs/homl-1e/lib/python3.7/site-packages/ipykernel_launcher.py:9: RuntimeWarning: invalid value encountered in multiply\n",
      "  if __name__ == '__main__':\n",
      "/home/phunc20/.config/miniconda3/envs/homl-1e/lib/python3.7/site-packages/ipykernel_launcher.py:9: RuntimeWarning: divide by zero encountered in log\n",
      "  if __name__ == '__main__':\n",
      "/home/phunc20/.config/miniconda3/envs/homl-1e/lib/python3.7/site-packages/ipykernel_launcher.py:9: RuntimeWarning: invalid value encountered in multiply\n",
      "  if __name__ == '__main__':\n",
      "/home/phunc20/.config/miniconda3/envs/homl-1e/lib/python3.7/site-packages/ipykernel_launcher.py:9: RuntimeWarning: divide by zero encountered in log\n",
      "  if __name__ == '__main__':\n",
      "/home/phunc20/.config/miniconda3/envs/homl-1e/lib/python3.7/site-packages/ipykernel_launcher.py:9: RuntimeWarning: invalid value encountered in multiply\n",
      "  if __name__ == '__main__':\n"
     ]
    }
   ],
   "source": [
    "n_epochs = 100\n",
    "w, train_hist, val_hist = SGD(X_t, y_train, X_dev=X_v, Y_dev=y_val, epochs=n_epochs, print_progress=False)\n",
    "#w, train_hist, val_hist = SGD(X_t, y_train, X_dev=X_v, Y_dev=y_val, epochs=n_epochs, print_progress=False, lr=0.04)\n",
    "#w, train_hist, val_hist = SGD(X_t, y_train, X_dev=X_v, Y_dev=y_val, epochs=n_epochs, print_progress=False, alpha=0)"
   ]
  },
  {
   "cell_type": "markdown",
   "id": "painful-receiver",
   "metadata": {},
   "source": [
    "### Add bias term\n",
    "**(?)** Why adding bias term gets consistently bad results? Can you explain?"
   ]
  },
  {
   "cell_type": "code",
   "execution_count": 111,
   "id": "focused-overall",
   "metadata": {},
   "outputs": [
    {
     "data": {
      "image/png": "[encoded data removed]",
      "text/plain": [
       "<Figure size 432x288 with 1 Axes>"
      ]
     },
     "metadata": {
      "needs_background": "light"
     },
     "output_type": "display_data"
    }
   ],
   "source": [
    "x = range(1, len(train_hist)+1)\n",
    "plt.plot(x, train_hist, label=\"train_loss\")\n",
    "plt.plot(x, val_hist, label=\"val_loss\")\n",
    "plt.legend();"
   ]
  },
  {
   "cell_type": "code",
   "execution_count": 84,
   "id": "committed-grain",
   "metadata": {},
   "outputs": [
    {
     "data": {
      "image/png": "[encoded data removed]",
      "text/plain": [
       "<Figure size 432x288 with 1 Axes>"
      ]
     },
     "metadata": {
      "needs_background": "light"
     },
     "output_type": "display_data"
    }
   ],
   "source": [
    "x = range(1, len(train_hist)+1)\n",
    "plt.plot(x, train_hist, label=\"train_loss\")\n",
    "plt.legend();"
   ]
  },
  {
   "cell_type": "code",
   "execution_count": 85,
   "id": "latin-wisconsin",
   "metadata": {},
   "outputs": [
    {
     "data": {
      "text/plain": [
       "array([1, 1, 1, 1, 1, 1, 0, 1, 1, 0, 1, 1, 1, 1, 1, 0, 1, 0, 0, 1, 1, 1,\n",
       "       1, 1, 1, 0, 1])"
      ]
     },
     "execution_count": 85,
     "metadata": {},
     "output_type": "execute_result"
    }
   ],
   "source": [
    "y_val_pred = (sigmoid((X_v @ w)) > 0.5).astype(np.int)\n",
    "y_val_pred"
   ]
  },
  {
   "cell_type": "code",
   "execution_count": 86,
   "id": "consistent-indonesian",
   "metadata": {},
   "outputs": [
    {
     "data": {
      "text/plain": [
       "array([[ 0, 17],\n",
       "       [ 6,  4]])"
      ]
     },
     "execution_count": 86,
     "metadata": {},
     "output_type": "execute_result"
    }
   ],
   "source": [
    "confusion_matrix(y_val, y_val_pred)"
   ]
  },
  {
   "cell_type": "code",
   "execution_count": 87,
   "id": "durable-bidding",
   "metadata": {},
   "outputs": [
    {
     "data": {
      "text/plain": [
       "array([0, 1, 0, 1, 1, 1, 1, 1, 1, 1, 1, 1, 1, 1, 1])"
      ]
     },
     "execution_count": 87,
     "metadata": {},
     "output_type": "execute_result"
    }
   ],
   "source": [
    "y_test_pred = (sigmoid(X_te @ w) > 0.5).astype(np.int)\n",
    "y_test_pred"
   ]
  },
  {
   "cell_type": "code",
   "execution_count": 88,
   "id": "selective-convention",
   "metadata": {},
   "outputs": [
    {
     "data": {
      "text/plain": [
       "array([[ 1, 11],\n",
       "       [ 1,  2]])"
      ]
     },
     "execution_count": 88,
     "metadata": {},
     "output_type": "execute_result"
    }
   ],
   "source": [
    "confusion_matrix(y_test, y_test_pred)"
   ]
  },
  {
   "cell_type": "code",
   "execution_count": null,
   "id": "hungarian-russia",
   "metadata": {},
   "outputs": [],
   "source": []
  },
  {
   "cell_type": "code",
   "execution_count": null,
   "id": "frank-analysis",
   "metadata": {},
   "outputs": [],
   "source": []
  },
  {
   "cell_type": "markdown",
   "id": "continuous-monroe",
   "metadata": {},
   "source": [
    "### Curious. I cannot seem to spot the bug.\n",
    "Let's try with [`sklearn.linear_model.SGDClassifier`](https://scikit-learn.org/stable/modules/generated/sklearn.linear_model.SGDClassifier.html) to see how good it can be."
   ]
  },
  {
   "cell_type": "code",
   "execution_count": 48,
   "id": "plain-response",
   "metadata": {},
   "outputs": [],
   "source": [
    "from sklearn.linear_model import SGDClassifier"
   ]
  },
  {
   "cell_type": "code",
   "execution_count": 50,
   "id": "bibliographic-hearing",
   "metadata": {},
   "outputs": [
    {
     "data": {
      "text/plain": [
       "SGDClassifier(loss='log')"
      ]
     },
     "execution_count": 50,
     "metadata": {},
     "output_type": "execute_result"
    }
   ],
   "source": [
    "clf = SGDClassifier(loss=\"log\")\n",
    "clf.fit(X_train, y_train)"
   ]
  },
  {
   "cell_type": "code",
   "execution_count": 189,
   "id": "distant-wedding",
   "metadata": {},
   "outputs": [
    {
     "data": {
      "text/plain": [
       "array([[71,  0],\n",
       "       [ 6, 31]])"
      ]
     },
     "execution_count": 189,
     "metadata": {},
     "output_type": "execute_result"
    }
   ],
   "source": [
    "y_train_pred = clf.predict(X_train)\n",
    "confusion_matrix(y_train, y_train_pred)"
   ]
  },
  {
   "cell_type": "code",
   "execution_count": 190,
   "id": "united-mouse",
   "metadata": {},
   "outputs": [
    {
     "data": {
      "text/plain": [
       "array([[12,  0],\n",
       "       [ 2,  1]])"
      ]
     },
     "execution_count": 190,
     "metadata": {},
     "output_type": "execute_result"
    }
   ],
   "source": [
    "y_test_pred = clf.predict(X_test)\n",
    "confusion_matrix(y_test, y_test_pred)"
   ]
  },
  {
   "cell_type": "code",
   "execution_count": 191,
   "id": "sunset-slovakia",
   "metadata": {},
   "outputs": [
    {
     "data": {
      "text/plain": [
       "array([[17,  0],\n",
       "       [ 5,  5]])"
      ]
     },
     "execution_count": 191,
     "metadata": {},
     "output_type": "execute_result"
    }
   ],
   "source": [
    "y_val_pred = clf.predict(X_val)\n",
    "confusion_matrix(y_val, y_val_pred)"
   ]
  },
  {
   "cell_type": "markdown",
   "id": "novel-diabetes",
   "metadata": {},
   "source": [
    "### Stopping criterion\n",
    "We didn't stop right at where our model's weight give best validation error, let's try that."
   ]
  },
  {
   "cell_type": "code",
   "execution_count": 192,
   "id": "conservative-variance",
   "metadata": {},
   "outputs": [
    {
     "data": {
      "text/plain": [
       "inf"
      ]
     },
     "execution_count": 192,
     "metadata": {},
     "output_type": "execute_result"
    }
   ],
   "source": [
    "np.inf"
   ]
  },
  {
   "cell_type": "code",
   "execution_count": 219,
   "id": "spread-therapy",
   "metadata": {},
   "outputs": [],
   "source": [
    "def SGD(X_tr, Y_tr, X_dev=[], Y_dev=[], lr=0.1, alpha=0.0001, epochs=5, tolerance=0.0001, print_progress=True):\n",
    "    train_loss_history, val_loss_history = [], []\n",
    "    num_features = X_tr.shape[1]\n",
    "    #weights = np.zeros(shape=(num_features,), dtype=np.float64)\n",
    "    weights = np.random.randn(num_features)\n",
    "    #clip_value = 1e-9\n",
    "    #X_tr = np.clip(X_tr, clip_value, 1-clip_value)\n",
    "    mms = MinMaxScaler()\n",
    "    #mms = StandardScaler()\n",
    "    X_tr = mms.fit_transform(X_tr)\n",
    "    best_val_loss = np.inf\n",
    "    for epoch in range(epochs):\n",
    "        indices = np.arange(X_tr.shape[0])\n",
    "        np.random.shuffle(indices)\n",
    "        X_tr = X_tr[indices]\n",
    "        Y_tr = Y_tr[indices]\n",
    "\n",
    "        # training loop\n",
    "        train_loss = 0\n",
    "        for idx, row in enumerate(X_tr):\n",
    "            row = np.reshape(row, (1, num_features))\n",
    "            train_loss += binary_loss(row, Y_tr[idx], weights, alpha)\n",
    "            for i in range(len(row)):\n",
    "                gradient = (sigmoid(row @ weights) - float(Y_tr[idx])) * row[0, i] + alpha*weights[i]*2\n",
    "                weights[i] -= lr*gradient\n",
    "        train_loss /= X_tr.shape[0]\n",
    "        train_loss_history.append(train_loss)\n",
    "\n",
    "        if len(X_dev) != 0 and len(Y_dev) != 0:\n",
    "            X_dev = mms.transform(X_dev)\n",
    "            val_loss = binary_loss(X_dev, Y_dev, weights, alpha)\n",
    "            val_loss_history.append(val_loss)\n",
    "\n",
    "            if print_progress:\n",
    "                print(f\"Epoch: {epoch+1}\")\n",
    "                print(f\"Training loss:   {train_loss:.4f}\")\n",
    "                print(f\"Validation loss: {val_loss:.4f}\")\n",
    "\n",
    "            # Wang seems to want the training process to stop when the progress becomes no longer significant.\n",
    "            #if epoch >=1:\n",
    "            #    if np.abs(val_loss_history[epoch]-val_loss_history[epoch-1]) < tolerance:\n",
    "            #        break\n",
    "            if val_loss < best_val_loss:\n",
    "                best_val_loss = val_loss\n",
    "                best_weights = weights\n",
    "                print(f\"best epoch {epoch}\")\n",
    "\n",
    "    return best_weights, train_loss_history, val_loss_history"
   ]
  },
  {
   "cell_type": "code",
   "execution_count": 220,
   "id": "spatial-motion",
   "metadata": {},
   "outputs": [
    {
     "name": "stdout",
     "output_type": "stream",
     "text": [
      "best epoch 0\n"
     ]
    }
   ],
   "source": [
    "w, train_hist, val_hist = SGD(X_train, y_train, X_dev=X_val, Y_dev=y_val, epochs=n_epochs, print_progress=False)\n",
    "#w, train_hist, val_hist = SGD(X_train, y_train, X_dev=X_val, Y_dev=y_val, epochs=n_epochs, print_progress=False, alpha=0)"
   ]
  },
  {
   "cell_type": "code",
   "execution_count": 221,
   "id": "connected-cooking",
   "metadata": {},
   "outputs": [
    {
     "data": {
      "image/png": "[encoded data removed]",
      "text/plain": [
       "<Figure size 432x288 with 1 Axes>"
      ]
     },
     "metadata": {
      "needs_background": "light"
     },
     "output_type": "display_data"
    }
   ],
   "source": [
    "x = range(1, len(train_hist)+1)\n",
    "plt.plot(x, train_hist, label=\"train_loss\")\n",
    "plt.plot(x, val_hist, label=\"val_loss\")\n",
    "plt.legend();"
   ]
  },
  {
   "cell_type": "code",
   "execution_count": 222,
   "id": "cultural-salem",
   "metadata": {},
   "outputs": [
    {
     "data": {
      "text/plain": [
       "array([0, 0, 0, 0, 0, 0, 0, 0, 0, 0, 0, 0, 0, 0, 0, 0, 0, 0, 0, 0, 0, 0,\n",
       "       0, 0, 0, 0, 0, 0, 0, 0, 0, 0, 0, 0, 0, 0, 0, 0, 0, 0, 0, 0, 0, 0,\n",
       "       0, 0, 0, 0, 0, 0, 0, 0, 0, 0, 0, 0, 0, 0, 0, 0, 0, 0, 0, 0, 0, 0,\n",
       "       0, 0, 0, 0, 0, 0, 0, 0, 0, 0, 0, 0, 0, 0, 0, 0, 0, 0, 0, 0, 0, 0,\n",
       "       0, 0, 0, 0, 0, 0, 0, 0, 0, 0, 0, 0, 0, 0, 0, 0, 0, 0, 0, 0])"
      ]
     },
     "execution_count": 222,
     "metadata": {},
     "output_type": "execute_result"
    }
   ],
   "source": [
    "y_train_pred = (sigmoid(X_train @ w) > 0.5).astype(np.int)\n",
    "y_train_pred"
   ]
  },
  {
   "cell_type": "code",
   "execution_count": 223,
   "id": "incorporate-homework",
   "metadata": {},
   "outputs": [
    {
     "data": {
      "text/plain": [
       "array([[71,  0],\n",
       "       [37,  0]])"
      ]
     },
     "execution_count": 223,
     "metadata": {},
     "output_type": "execute_result"
    }
   ],
   "source": [
    "confusion_matrix(y_train, y_train_pred)"
   ]
  },
  {
   "cell_type": "code",
   "execution_count": 224,
   "id": "ideal-heavy",
   "metadata": {},
   "outputs": [
    {
     "data": {
      "text/plain": [
       "array([0, 0, 0, 0, 0, 0, 0, 0, 0, 0, 0, 0, 0, 0, 0, 0, 0, 0, 0, 0, 0, 0,\n",
       "       0, 0, 0, 0, 0])"
      ]
     },
     "execution_count": 224,
     "metadata": {},
     "output_type": "execute_result"
    }
   ],
   "source": [
    "y_val_pred = (sigmoid(X_val @ w) > 0.5).astype(np.int)\n",
    "y_val_pred"
   ]
  },
  {
   "cell_type": "code",
   "execution_count": 225,
   "id": "classical-martial",
   "metadata": {},
   "outputs": [
    {
     "data": {
      "text/plain": [
       "array([[17,  0],\n",
       "       [10,  0]])"
      ]
     },
     "execution_count": 225,
     "metadata": {},
     "output_type": "execute_result"
    }
   ],
   "source": [
    "confusion_matrix(y_val, y_val_pred)"
   ]
  },
  {
   "cell_type": "code",
   "execution_count": 226,
   "id": "junior-explosion",
   "metadata": {},
   "outputs": [
    {
     "data": {
      "text/plain": [
       "array([0, 0, 0, 0, 0, 0, 0, 0, 0, 0, 0, 0, 0, 0, 0])"
      ]
     },
     "execution_count": 226,
     "metadata": {},
     "output_type": "execute_result"
    }
   ],
   "source": [
    "y_test_pred = (sigmoid(X_test @ w) > 0.5).astype(np.int)\n",
    "y_test_pred"
   ]
  },
  {
   "cell_type": "code",
   "execution_count": 218,
   "id": "seeing-quebec",
   "metadata": {},
   "outputs": [
    {
     "data": {
      "text/plain": [
       "array([[12,  0],\n",
       "       [ 3,  0]])"
      ]
     },
     "execution_count": 218,
     "metadata": {},
     "output_type": "execute_result"
    }
   ],
   "source": [
    "confusion_matrix(y_test, y_test_pred)"
   ]
  },
  {
   "cell_type": "markdown",
   "id": "royal-drill",
   "metadata": {},
   "source": [
    "### Learning schedule"
   ]
  },
  {
   "cell_type": "code",
   "execution_count": 227,
   "id": "raised-determination",
   "metadata": {},
   "outputs": [],
   "source": [
    "t0, t1 = 5, 50\n",
    "\n",
    "def learning_schedule(t):\n",
    "    return t0 / (t + t1)"
   ]
  },
  {
   "cell_type": "code",
   "execution_count": 246,
   "id": "guided-stewart",
   "metadata": {},
   "outputs": [],
   "source": [
    "def SGD(X_tr, Y_tr, X_dev=[], Y_dev=[], lr=0.1, alpha=0.0001, epochs=5, tolerance=0.0001, print_progress=True):\n",
    "    train_loss_history, val_loss_history = [], []\n",
    "    num_features = X_tr.shape[1]\n",
    "    #weights = np.zeros(shape=(num_features,), dtype=np.float64)\n",
    "    weights = np.random.randn(num_features)\n",
    "    #clip_value = 1e-9\n",
    "    #X_tr = np.clip(X_tr, clip_value, 1-clip_value)\n",
    "    mms = MinMaxScaler()\n",
    "    #mms = StandardScaler()\n",
    "    X_tr = mms.fit_transform(X_tr)\n",
    "    best_val_loss = np.inf\n",
    "    for epoch in range(epochs):\n",
    "        indices = np.arange(X_tr.shape[0])\n",
    "        np.random.shuffle(indices)\n",
    "        X_tr = X_tr[indices]\n",
    "        Y_tr = Y_tr[indices]\n",
    "\n",
    "        # training loop\n",
    "        train_loss = 0\n",
    "        for idx, row in enumerate(X_tr):\n",
    "            row = np.reshape(row, (1, num_features))\n",
    "            train_loss += binary_loss(row, Y_tr[idx], weights, alpha)\n",
    "            for i in range(len(row)):\n",
    "                gradient = (sigmoid(row @ weights) - float(Y_tr[idx])) * row[0, i] + alpha*weights[i]*2\n",
    "                eta = learning_schedule(epoch*len(X_tr)  + idx)\n",
    "                weights[i] -= lr*gradient*eta\n",
    "                #weights[i] -= gradient*eta\n",
    "        train_loss /= X_tr.shape[0]\n",
    "        train_loss_history.append(train_loss)\n",
    "\n",
    "        if len(X_dev) != 0 and len(Y_dev) != 0:\n",
    "            X_dev = mms.transform(X_dev)\n",
    "            val_loss = binary_loss(X_dev, Y_dev, weights, alpha)\n",
    "            val_loss_history.append(val_loss)\n",
    "\n",
    "            if print_progress:\n",
    "                print(f\"Epoch: {epoch+1}\")\n",
    "                print(f\"Training loss:   {train_loss:.4f}\")\n",
    "                print(f\"Validation loss: {val_loss:.4f}\")\n",
    "\n",
    "            # Wang seems to want the training process to stop when the progress becomes no longer significant.\n",
    "            #if epoch >=1:\n",
    "            #    if np.abs(val_loss_history[epoch]-val_loss_history[epoch-1]) < tolerance:\n",
    "            #        break\n",
    "            if val_loss < best_val_loss:\n",
    "                best_val_loss = val_loss\n",
    "                best_weights = weights\n",
    "                print(f\"best epoch {epoch}\")\n",
    "\n",
    "    return best_weights, train_loss_history, val_loss_history"
   ]
  },
  {
   "cell_type": "code",
   "execution_count": 247,
   "id": "regional-disclaimer",
   "metadata": {},
   "outputs": [
    {
     "name": "stdout",
     "output_type": "stream",
     "text": [
      "best epoch 0\n"
     ]
    }
   ],
   "source": [
    "w, train_hist, val_hist = SGD(X_train, y_train, X_dev=X_val, Y_dev=y_val, epochs=n_epochs, print_progress=False)\n",
    "#w, train_hist, val_hist = SGD(X_train, y_train, X_dev=X_val, Y_dev=y_val, epochs=n_epochs, print_progress=False, alpha=0)"
   ]
  },
  {
   "cell_type": "code",
   "execution_count": 248,
   "id": "interim-definition",
   "metadata": {},
   "outputs": [
    {
     "data": {
      "image/png": "[encoded data removed]",
      "text/plain": [
       "<Figure size 432x288 with 1 Axes>"
      ]
     },
     "metadata": {
      "needs_background": "light"
     },
     "output_type": "display_data"
    }
   ],
   "source": [
    "x = range(1, len(train_hist)+1)\n",
    "plt.plot(x, train_hist, label=\"train_loss\")\n",
    "plt.plot(x, val_hist, label=\"val_loss\")\n",
    "plt.legend();"
   ]
  },
  {
   "cell_type": "code",
   "execution_count": 240,
   "id": "several-archive",
   "metadata": {},
   "outputs": [
    {
     "data": {
      "text/plain": [
       "array([1, 1, 1, 1, 1, 1, 1, 1, 1, 1, 1, 1, 1, 1, 1, 1, 1, 1, 1, 1, 1, 1,\n",
       "       1, 1, 1, 1, 1, 1, 1, 1, 1, 1, 1, 1, 1, 1, 1, 1, 1, 1, 1, 1, 1, 1,\n",
       "       1, 1, 1, 1, 1, 1, 1, 1, 1, 1, 1, 1, 1, 1, 1, 1, 1, 1, 1, 1, 1, 1,\n",
       "       1, 1, 1, 1, 1, 1, 1, 1, 1, 1, 1, 1, 1, 1, 1, 1, 1, 1, 1, 1, 1, 1,\n",
       "       1, 1, 1, 1, 1, 1, 1, 1, 1, 1, 1, 1, 1, 1, 1, 1, 1, 1, 1, 1])"
      ]
     },
     "execution_count": 240,
     "metadata": {},
     "output_type": "execute_result"
    }
   ],
   "source": [
    "y_train_pred = (sigmoid(X_train @ w) > 0.5).astype(np.int)\n",
    "y_train_pred"
   ]
  },
  {
   "cell_type": "code",
   "execution_count": 241,
   "id": "tracked-rochester",
   "metadata": {},
   "outputs": [
    {
     "data": {
      "text/plain": [
       "array([[ 0, 71],\n",
       "       [ 0, 37]])"
      ]
     },
     "execution_count": 241,
     "metadata": {},
     "output_type": "execute_result"
    }
   ],
   "source": [
    "confusion_matrix(y_train, y_train_pred)"
   ]
  },
  {
   "cell_type": "code",
   "execution_count": 242,
   "id": "indirect-upset",
   "metadata": {},
   "outputs": [
    {
     "data": {
      "text/plain": [
       "array([1, 1, 1, 1, 1, 1, 1, 1, 1, 1, 1, 1, 1, 1, 1, 1, 1, 1, 1, 1, 1, 1,\n",
       "       1, 1, 1, 1, 1])"
      ]
     },
     "execution_count": 242,
     "metadata": {},
     "output_type": "execute_result"
    }
   ],
   "source": [
    "y_val_pred = (sigmoid(X_val @ w) > 0.5).astype(np.int)\n",
    "y_val_pred"
   ]
  },
  {
   "cell_type": "code",
   "execution_count": 243,
   "id": "involved-emphasis",
   "metadata": {},
   "outputs": [
    {
     "data": {
      "text/plain": [
       "array([[ 0, 17],\n",
       "       [ 0, 10]])"
      ]
     },
     "execution_count": 243,
     "metadata": {},
     "output_type": "execute_result"
    }
   ],
   "source": [
    "confusion_matrix(y_val, y_val_pred)"
   ]
  },
  {
   "cell_type": "code",
   "execution_count": 244,
   "id": "cloudy-drill",
   "metadata": {},
   "outputs": [
    {
     "data": {
      "text/plain": [
       "array([1, 1, 1, 1, 1, 1, 1, 1, 1, 1, 1, 1, 1, 1, 1])"
      ]
     },
     "execution_count": 244,
     "metadata": {},
     "output_type": "execute_result"
    }
   ],
   "source": [
    "y_test_pred = (sigmoid(X_test @ w) > 0.5).astype(np.int)\n",
    "y_test_pred"
   ]
  },
  {
   "cell_type": "code",
   "execution_count": 245,
   "id": "smart-relief",
   "metadata": {},
   "outputs": [
    {
     "data": {
      "text/plain": [
       "array([[ 0, 12],\n",
       "       [ 0,  3]])"
      ]
     },
     "execution_count": 245,
     "metadata": {},
     "output_type": "execute_result"
    }
   ],
   "source": [
    "confusion_matrix(y_test, y_test_pred)"
   ]
  },
  {
   "cell_type": "markdown",
   "id": "phantom-saskatchewan",
   "metadata": {},
   "source": [
    "### Leon Bottou's learning schedule"
   ]
  },
  {
   "cell_type": "code",
   "execution_count": 301,
   "id": "latin-broad",
   "metadata": {},
   "outputs": [],
   "source": [
    "def SGD(X_tr, Y_tr, X_dev=[], Y_dev=[], lr=0.1, alpha=0.0001, epochs=5, tolerance=0.0001, print_progress=True):\n",
    "    def learning_schedule(t):\n",
    "        epsilon = 1e-5\n",
    "        return 1 / (t * alpha + epsilon)\n",
    "    train_loss_history, val_loss_history = [], []\n",
    "    num_features = X_tr.shape[1]\n",
    "    #weights = np.zeros(shape=(num_features,), dtype=np.float64)\n",
    "    weights = np.random.randn(num_features)\n",
    "    #clip_value = 1e-9\n",
    "    #X_tr = np.clip(X_tr, clip_value, 1-clip_value)\n",
    "    mms = MinMaxScaler()\n",
    "    #mms = StandardScaler()\n",
    "    X_tr = mms.fit_transform(X_tr)\n",
    "    best_val_loss = np.inf\n",
    "    for epoch in range(epochs):\n",
    "        indices = np.arange(X_tr.shape[0])\n",
    "        np.random.shuffle(indices)\n",
    "        X_tr = X_tr[indices]\n",
    "        Y_tr = Y_tr[indices]\n",
    "\n",
    "        # training loop\n",
    "        train_loss = 0\n",
    "        for idx, row in enumerate(X_tr):\n",
    "            row = np.reshape(row, (1, num_features))\n",
    "            train_loss += binary_loss(row, Y_tr[idx], weights, alpha)\n",
    "            for i in range(len(row)):\n",
    "                gradient = (sigmoid(row @ weights) - float(Y_tr[idx])) * row[0, i] + alpha*weights[i]*2\n",
    "                eta = learning_schedule(epoch*len(X_tr)  + idx)\n",
    "                #weights[i] -= lr*gradient\n",
    "                weights[i] -= gradient*eta\n",
    "        train_loss /= X_tr.shape[0]\n",
    "        train_loss_history.append(train_loss)\n",
    "\n",
    "        if len(X_dev) != 0 and len(Y_dev) != 0:\n",
    "            X_dev = mms.transform(X_dev)\n",
    "            val_loss = binary_loss(X_dev, Y_dev, weights, alpha)\n",
    "            val_loss_history.append(val_loss)\n",
    "\n",
    "            if print_progress:\n",
    "                print(f\"Epoch: {epoch+1}\")\n",
    "                print(f\"Training loss:   {train_loss:.4f}\")\n",
    "                print(f\"Validation loss: {val_loss:.4f}\")\n",
    "\n",
    "            # Wang seems to want the training process to stop when the progress becomes no longer significant.\n",
    "            #if epoch >=1:\n",
    "            #    if np.abs(val_loss_history[epoch]-val_loss_history[epoch-1]) < tolerance:\n",
    "            #        break\n",
    "            if val_loss < best_val_loss:\n",
    "                best_val_loss = val_loss\n",
    "                best_weights = weights\n",
    "                print(f\"best epoch {epoch}\")\n",
    "\n",
    "    return best_weights, train_loss_history, val_loss_history"
   ]
  },
  {
   "cell_type": "code",
   "execution_count": 302,
   "id": "personalized-absorption",
   "metadata": {},
   "outputs": [
    {
     "name": "stderr",
     "output_type": "stream",
     "text": [
      "/home/phunc20/.config/miniconda3/envs/homl-1e/lib/python3.7/site-packages/ipykernel_launcher.py:2: RuntimeWarning: overflow encountered in exp\n",
      "  \n",
      "/home/phunc20/.config/miniconda3/envs/homl-1e/lib/python3.7/site-packages/ipykernel_launcher.py:9: RuntimeWarning: divide by zero encountered in log\n",
      "  if __name__ == '__main__':\n",
      "/home/phunc20/.config/miniconda3/envs/homl-1e/lib/python3.7/site-packages/ipykernel_launcher.py:9: RuntimeWarning: invalid value encountered in multiply\n",
      "  if __name__ == '__main__':\n"
     ]
    },
    {
     "name": "stdout",
     "output_type": "stream",
     "text": [
      "best epoch 0\n",
      "best epoch 3\n",
      "best epoch 4\n",
      "best epoch 5\n",
      "best epoch 6\n",
      "best epoch 7\n",
      "best epoch 20\n",
      "best epoch 41\n",
      "best epoch 86\n",
      "best epoch 97\n"
     ]
    }
   ],
   "source": [
    "w, train_hist, val_hist = SGD(X_train, y_train, X_dev=X_val, Y_dev=y_val, epochs=n_epochs, print_progress=False)\n",
    "#w, train_hist, val_hist = SGD(X_train, y_train, X_dev=X_val, Y_dev=y_val, epochs=n_epochs, print_progress=False, alpha=0)"
   ]
  },
  {
   "cell_type": "code",
   "execution_count": 303,
   "id": "sixth-kitty",
   "metadata": {},
   "outputs": [
    {
     "data": {
      "image/png": "[encoded data removed]",
      "text/plain": [
       "<Figure size 432x288 with 1 Axes>"
      ]
     },
     "metadata": {
      "needs_background": "light"
     },
     "output_type": "display_data"
    }
   ],
   "source": [
    "x = range(1, len(train_hist)+1)\n",
    "plt.plot(x, train_hist, label=\"train_loss\")\n",
    "plt.plot(x, val_hist, label=\"val_loss\")\n",
    "plt.legend();"
   ]
  },
  {
   "cell_type": "code",
   "execution_count": 304,
   "id": "delayed-compact",
   "metadata": {},
   "outputs": [
    {
     "data": {
      "text/plain": [
       "array([1, 1, 1, 1, 1, 1, 1, 1, 1, 1, 1, 1, 1, 1, 1, 1, 1, 1, 1, 1, 1, 1,\n",
       "       1, 1, 1, 1, 1, 1, 1, 1, 1, 1, 1, 1, 1, 1, 1, 1, 1, 1, 1, 1, 1, 1,\n",
       "       1, 1, 1, 1, 1, 1, 1, 1, 1, 1, 1, 1, 1, 1, 1, 1, 1, 1, 1, 1, 1, 1,\n",
       "       1, 1, 1, 1, 1, 1, 1, 1, 1, 1, 1, 1, 1, 1, 1, 1, 1, 1, 1, 1, 1, 1,\n",
       "       1, 1, 1, 1, 1, 1, 1, 1, 1, 1, 1, 1, 1, 1, 1, 1, 1, 1, 1, 1])"
      ]
     },
     "execution_count": 304,
     "metadata": {},
     "output_type": "execute_result"
    }
   ],
   "source": [
    "y_train_pred = (sigmoid(X_train @ w) > 0.5).astype(np.int)\n",
    "y_train_pred"
   ]
  },
  {
   "cell_type": "code",
   "execution_count": 305,
   "id": "beautiful-panama",
   "metadata": {},
   "outputs": [
    {
     "data": {
      "text/plain": [
       "array([[ 0, 71],\n",
       "       [ 0, 37]])"
      ]
     },
     "execution_count": 305,
     "metadata": {},
     "output_type": "execute_result"
    }
   ],
   "source": [
    "confusion_matrix(y_train, y_train_pred)"
   ]
  },
  {
   "cell_type": "code",
   "execution_count": 306,
   "id": "stuck-eclipse",
   "metadata": {},
   "outputs": [
    {
     "data": {
      "text/plain": [
       "array([1, 1, 1, 1, 1, 1, 1, 1, 1, 1, 1, 1, 1, 1, 1, 1, 1, 1, 1, 1, 1, 1,\n",
       "       1, 1, 1, 1, 1])"
      ]
     },
     "execution_count": 306,
     "metadata": {},
     "output_type": "execute_result"
    }
   ],
   "source": [
    "y_val_pred = (sigmoid(X_val @ w) > 0.5).astype(np.int)\n",
    "y_val_pred"
   ]
  },
  {
   "cell_type": "code",
   "execution_count": 307,
   "id": "aware-distance",
   "metadata": {},
   "outputs": [
    {
     "data": {
      "text/plain": [
       "array([[ 0, 17],\n",
       "       [ 0, 10]])"
      ]
     },
     "execution_count": 307,
     "metadata": {},
     "output_type": "execute_result"
    }
   ],
   "source": [
    "confusion_matrix(y_val, y_val_pred)"
   ]
  },
  {
   "cell_type": "code",
   "execution_count": 308,
   "id": "biological-token",
   "metadata": {},
   "outputs": [
    {
     "data": {
      "text/plain": [
       "array([1, 1, 1, 1, 1, 1, 1, 1, 1, 1, 1, 1, 1, 1, 1])"
      ]
     },
     "execution_count": 308,
     "metadata": {},
     "output_type": "execute_result"
    }
   ],
   "source": [
    "y_test_pred = (sigmoid(X_test @ w) > 0.5).astype(np.int)\n",
    "y_test_pred"
   ]
  },
  {
   "cell_type": "code",
   "execution_count": 309,
   "id": "heard-fabric",
   "metadata": {},
   "outputs": [
    {
     "data": {
      "text/plain": [
       "array([[ 0, 12],\n",
       "       [ 0,  3]])"
      ]
     },
     "execution_count": 309,
     "metadata": {},
     "output_type": "execute_result"
    }
   ],
   "source": [
    "confusion_matrix(y_test, y_test_pred)"
   ]
  },
  {
   "cell_type": "code",
   "execution_count": null,
   "id": "accepted-import",
   "metadata": {},
   "outputs": [],
   "source": []
  },
  {
   "cell_type": "code",
   "execution_count": null,
   "id": "civilian-explosion",
   "metadata": {},
   "outputs": [],
   "source": []
  },
  {
   "cell_type": "code",
   "execution_count": null,
   "id": "desirable-midwest",
   "metadata": {},
   "outputs": [],
   "source": []
  },
  {
   "cell_type": "code",
   "execution_count": null,
   "id": "humanitarian-biography",
   "metadata": {},
   "outputs": [],
   "source": []
  }
 ],
 "metadata": {
  "kernelspec": {
   "display_name": "Python 3",
   "language": "python",
   "name": "python3"
  },
  "language_info": {
   "codemirror_mode": {
    "name": "ipython",
    "version": 3
   },
   "file_extension": ".py",
   "mimetype": "text/x-python",
   "name": "python",
   "nbconvert_exporter": "python",
   "pygments_lexer": "ipython3",
   "version": "3.7.9"
  }
 },
 "nbformat": 4,
 "nbformat_minor": 5
}
