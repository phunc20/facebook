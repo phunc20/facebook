{
 "cells": [
  {
   "cell_type": "markdown",
   "id": "educational-deviation",
   "metadata": {},
   "source": [
    "### First, let's add more features to see if that will improve."
   ]
  },
  {
   "cell_type": "code",
   "execution_count": 1,
   "id": "alleged-conference",
   "metadata": {},
   "outputs": [],
   "source": [
    "from sklearn import datasets\n",
    "import numpy as np"
   ]
  },
  {
   "cell_type": "code",
   "execution_count": 2,
   "id": "flush-marketing",
   "metadata": {},
   "outputs": [
    {
     "data": {
      "text/plain": [
       "((150, 4), (150,))"
      ]
     },
     "execution_count": 2,
     "metadata": {},
     "output_type": "execute_result"
    }
   ],
   "source": [
    "iris = datasets.load_iris()\n",
    "#X = iris[\"data\"][:,3:]  # petal width\n",
    "X = iris[\"data\"][:,:]\n",
    "y = (iris[\"target\"]==2).astype(np.int)\n",
    "X.shape, y.shape"
   ]
  },
  {
   "cell_type": "code",
   "execution_count": 3,
   "id": "absolute-joshua",
   "metadata": {},
   "outputs": [
    {
     "data": {
      "text/plain": [
       "((108, 4), (27, 4), (15, 4))"
      ]
     },
     "execution_count": 3,
     "metadata": {},
     "output_type": "execute_result"
    }
   ],
   "source": [
    "from sklearn.model_selection import train_test_split\n",
    "\n",
    "X_train, X_test, y_train, y_test = train_test_split(X, y, test_size=0.1, random_state=42)\n",
    "X_train, X_val, y_train, y_val = train_test_split(X_train, y_train, test_size=0.2, random_state=42)\n",
    "X_train.shape, X_val.shape, X_test.shape"
   ]
  },
  {
   "cell_type": "code",
   "execution_count": 4,
   "id": "developing-wrong",
   "metadata": {},
   "outputs": [],
   "source": [
    "def sigmoid(z):\n",
    "    return 1 / (1 + np.exp(-z))"
   ]
  },
  {
   "cell_type": "code",
   "execution_count": 5,
   "id": "banner-spell",
   "metadata": {},
   "outputs": [],
   "source": [
    "def binary_loss(X, Y, weights, alpha=0.00001):\n",
    "    \"\"\"\n",
    "    X.shape = (num_instances, num_features)\n",
    "    Y.shape = (num_instances,)\n",
    "    weights.shape = (num_features,)\n",
    "    \"\"\"\n",
    "    z = np.dot(X, weights)\n",
    "    h = sigmoid(z)\n",
    "    total_cost = (-Y*np.log(h) - (1-Y)*np.log(1-h)).mean() + alpha * np.sum(np.dot(weights, weights.T))\n",
    "    return total_cost"
   ]
  },
  {
   "cell_type": "code",
   "execution_count": 6,
   "id": "fundamental-correlation",
   "metadata": {},
   "outputs": [],
   "source": [
    "from sklearn.preprocessing import MinMaxScaler, StandardScaler\n",
    "\n",
    "def SGD(X_tr, Y_tr, X_dev=[], Y_dev=[], lr=0.1, alpha=0.00001, epochs=5, tolerance=0.0001, print_progress=True):\n",
    "    train_loss_history, val_loss_history = [], []\n",
    "    num_features = X_tr.shape[1]\n",
    "    #weights = np.zeros(shape=(num_features,), dtype=np.float64)\n",
    "    weights = np.random.randn(num_features)\n",
    "    clip_value = 1e-9\n",
    "    #X_tr = np.clip(X_tr, clip_value, 1-clip_value)\n",
    "    mms = MinMaxScaler()\n",
    "    #mms = StandardScaler()\n",
    "    X_tr = mms.fit_transform(X_tr)\n",
    "    for epoch in range(epochs):\n",
    "        indices = np.arange(X_tr.shape[0])\n",
    "        np.random.shuffle(indices)\n",
    "        X_tr = X_tr[indices]\n",
    "        Y_tr = Y_tr[indices]\n",
    "\n",
    "        # training loop\n",
    "        train_loss = 0\n",
    "        for idx, row in enumerate(X_tr):\n",
    "            row = np.reshape(row, (1, num_features))\n",
    "            train_loss += binary_loss(row, Y_tr[idx], weights, alpha)\n",
    "            for i in range(len(row)):\n",
    "                gradient = (sigmoid(row @ weights) - float(Y_tr[idx])) * row[0, i] + alpha*weights[i]\n",
    "                weights[i] = weights[i] - lr*gradient\n",
    "        train_loss /= X_tr.shape[0]\n",
    "        train_loss_history.append(train_loss)\n",
    "\n",
    "        if len(X_dev) != 0 and len(Y_dev) != 0:\n",
    "            X_dev = mms.transform(X_dev)\n",
    "            val_loss = binary_loss(X_dev, Y_dev, weights, alpha)\n",
    "            val_loss_history.append(val_loss)\n",
    "\n",
    "            if print_progress:\n",
    "                print(f\"Epoch: {epoch+1}\")\n",
    "                print(f\"Training loss:   {train_loss:.4f}\")\n",
    "                print(f\"Validation loss: {val_loss:.4f}\")\n",
    "\n",
    "            # Wang seems to want the training process to stop when the progress becomes no longer significant.\n",
    "            if epoch >=1:\n",
    "                if np.abs(val_loss_history[epoch]-val_loss_history[epoch-1]) < tolerance:\n",
    "                    break\n",
    "\n",
    "    return weights, train_loss_history, val_loss_history"
   ]
  },
  {
   "cell_type": "code",
   "execution_count": 7,
   "id": "available-powder",
   "metadata": {},
   "outputs": [],
   "source": [
    "n_epochs = 100\n",
    "w, train_hist, val_hist = SGD(X_train, y_train, X_dev=X_val, Y_dev=y_val, epochs=n_epochs, print_progress=False)"
   ]
  },
  {
   "cell_type": "code",
   "execution_count": 8,
   "id": "statistical-price",
   "metadata": {},
   "outputs": [
    {
     "data": {
      "image/png": "[encoded data removed]",
      "text/plain": [
       "<Figure size 432x288 with 1 Axes>"
      ]
     },
     "metadata": {
      "needs_background": "light"
     },
     "output_type": "display_data"
    }
   ],
   "source": [
    "import matplotlib.pyplot as plt\n",
    "x = range(1, len(train_hist)+1)\n",
    "plt.plot(x, train_hist, label=\"train_loss\")\n",
    "plt.plot(x, val_hist, label=\"val_loss\")\n",
    "plt.legend();"
   ]
  },
  {
   "cell_type": "code",
   "execution_count": 9,
   "id": "racial-badge",
   "metadata": {},
   "outputs": [],
   "source": [
    "#prediction = "
   ]
  },
  {
   "cell_type": "code",
   "execution_count": null,
   "id": "identified-permission",
   "metadata": {},
   "outputs": [],
   "source": []
  },
  {
   "cell_type": "markdown",
   "id": "every-associate",
   "metadata": {},
   "source": [
    "### Let's try to train with `LogisticRegression`"
   ]
  },
  {
   "cell_type": "code",
   "execution_count": 10,
   "id": "civic-differential",
   "metadata": {},
   "outputs": [
    {
     "data": {
      "text/plain": [
       "LogisticRegression()"
      ]
     },
     "execution_count": 10,
     "metadata": {},
     "output_type": "execute_result"
    }
   ],
   "source": [
    "from sklearn.linear_model import LogisticRegression\n",
    "log_reg = LogisticRegression()\n",
    "log_reg.fit(X_train, y_train)"
   ]
  },
  {
   "cell_type": "code",
   "execution_count": 11,
   "id": "comparative-cartridge",
   "metadata": {},
   "outputs": [],
   "source": [
    "from sklearn.metrics import confusion_matrix"
   ]
  },
  {
   "cell_type": "code",
   "execution_count": 12,
   "id": "middle-vertical",
   "metadata": {},
   "outputs": [
    {
     "data": {
      "text/plain": [
       "array([[17,  0],\n",
       "       [ 0, 10]])"
      ]
     },
     "execution_count": 12,
     "metadata": {},
     "output_type": "execute_result"
    }
   ],
   "source": [
    "y_val_pred = log_reg.predict(X_val)\n",
    "confusion_matrix(y_val, y_val_pred)"
   ]
  },
  {
   "cell_type": "code",
   "execution_count": 13,
   "id": "exotic-health",
   "metadata": {},
   "outputs": [
    {
     "data": {
      "text/plain": [
       "array([[12,  0],\n",
       "       [ 0,  3]])"
      ]
     },
     "execution_count": 13,
     "metadata": {},
     "output_type": "execute_result"
    }
   ],
   "source": [
    "y_test_pred = log_reg.predict(X_test)\n",
    "confusion_matrix(y_test, y_test_pred)"
   ]
  },
  {
   "cell_type": "markdown",
   "id": "perfect-edinburgh",
   "metadata": {},
   "source": [
    "### Bias term\n",
    "Maybe the problem was that we do not manually add a bias term?"
   ]
  },
  {
   "cell_type": "code",
   "execution_count": 14,
   "id": "complete-deployment",
   "metadata": {},
   "outputs": [
    {
     "data": {
      "text/plain": [
       "(108, 4)"
      ]
     },
     "execution_count": 14,
     "metadata": {},
     "output_type": "execute_result"
    }
   ],
   "source": [
    "X_train.shape"
   ]
  },
  {
   "cell_type": "code",
   "execution_count": 15,
   "id": "dirty-midnight",
   "metadata": {},
   "outputs": [
    {
     "data": {
      "text/plain": [
       "(108, 5)"
      ]
     },
     "execution_count": 15,
     "metadata": {},
     "output_type": "execute_result"
    }
   ],
   "source": [
    "X_t = np.hstack([X_train, np.ones((X_train.shape[0], 1))])\n",
    "X_t.shape"
   ]
  },
  {
   "cell_type": "code",
   "execution_count": 16,
   "id": "ambient-budget",
   "metadata": {},
   "outputs": [
    {
     "data": {
      "text/plain": [
       "(27, 5)"
      ]
     },
     "execution_count": 16,
     "metadata": {},
     "output_type": "execute_result"
    }
   ],
   "source": [
    "X_v = np.hstack([X_val, np.ones((X_val.shape[0], 1))])\n",
    "X_v.shape"
   ]
  },
  {
   "cell_type": "code",
   "execution_count": 17,
   "id": "friendly-hamburg",
   "metadata": {},
   "outputs": [],
   "source": [
    "n_epochs = 100\n",
    "w, train_hist, val_hist = SGD(X_t, y_train, X_dev=X_v, Y_dev=y_val, epochs=n_epochs, print_progress=False)"
   ]
  },
  {
   "cell_type": "code",
   "execution_count": 20,
   "id": "entertaining-american",
   "metadata": {},
   "outputs": [
    {
     "data": {
      "image/png": "[encoded data removed]",
      "text/plain": [
       "<Figure size 432x288 with 1 Axes>"
      ]
     },
     "metadata": {
      "needs_background": "light"
     },
     "output_type": "display_data"
    }
   ],
   "source": [
    "import matplotlib.pyplot as plt\n",
    "x = range(1, len(train_hist)+1)\n",
    "plt.plot(x, train_hist, label=\"train_loss\")\n",
    "plt.plot(x, val_hist, label=\"val_loss\")\n",
    "plt.legend();"
   ]
  },
  {
   "cell_type": "markdown",
   "id": "postal-employment",
   "metadata": {},
   "source": [
    "No, this is not where the problem lies."
   ]
  },
  {
   "cell_type": "markdown",
   "id": "democratic-belle",
   "metadata": {},
   "source": [
    "### The most suspectible being the function `SGD()`\n",
    "Let's look closer into this function."
   ]
  },
  {
   "cell_type": "markdown",
   "id": "atomic-birth",
   "metadata": {},
   "source": [
    "### No `clip()`"
   ]
  },
  {
   "cell_type": "markdown",
   "id": "liquid-shannon",
   "metadata": {},
   "source": [
    "- It is weird to `clip()` the training data values unless we are really sure about the range of our data values\n",
    "  - I don't know the originally NLP dataset, but `clip()` is not suitable for Iris dataset here."
   ]
  },
  {
   "cell_type": "code",
   "execution_count": 21,
   "id": "controlled-constitution",
   "metadata": {},
   "outputs": [
    {
     "data": {
      "text/plain": [
       "(0, 10)"
      ]
     },
     "execution_count": 21,
     "metadata": {},
     "output_type": "execute_result"
    }
   ],
   "source": [
    "np.clip(-7, 0, 10), np.clip(38, 0, 10)"
   ]
  },
  {
   "cell_type": "code",
   "execution_count": 22,
   "id": "continent-connection",
   "metadata": {},
   "outputs": [
    {
     "data": {
      "text/plain": [
       "array([[6.7, 2.5, 5.8, 1.8],\n",
       "       [5.7, 2.8, 4.1, 1.3],\n",
       "       [5.5, 2.5, 4. , 1.3],\n",
       "       [5.2, 2.7, 3.9, 1.4],\n",
       "       [6. , 2.2, 5. , 1.5],\n",
       "       [7.6, 3. , 6.6, 2.1],\n",
       "       [6.3, 3.3, 4.7, 1.6],\n",
       "       [5.5, 2.4, 3.8, 1.1],\n",
       "       [5.5, 4.2, 1.4, 0.2],\n",
       "       [5.2, 4.1, 1.5, 0.1]])"
      ]
     },
     "execution_count": 22,
     "metadata": {},
     "output_type": "execute_result"
    }
   ],
   "source": [
    "X_train[:10, :]"
   ]
  },
  {
   "cell_type": "markdown",
   "id": "asian-power",
   "metadata": {},
   "source": [
    "Problems in the function `SGD()`:\n",
    "- The training loss is no longer quite accurate, albeit acceptable. In particular, it is unfair to compare `val_loss` with `train_loss`; only looking the history exclusively within each one makes sense.\n",
    "- $\\frac{\\partial L}{\\partial w_i} = (h-y)x_i + 2\\alpha w_i\\quad$ if $\\quad L = -y\\log h - (1-y)\\log (1-h) + \\alpha \\lVert w \\rVert^2$"
   ]
  },
  {
   "cell_type": "code",
   "execution_count": 26,
   "id": "adjacent-spectrum",
   "metadata": {},
   "outputs": [
    {
     "data": {
      "text/plain": [
       "(array([[0, 1, 2]]), array([ 0.42646796, -0.41958437,  0.99195053]))"
      ]
     },
     "execution_count": 26,
     "metadata": {},
     "output_type": "execute_result"
    }
   ],
   "source": [
    "row = np.arange(1*3).reshape((1,3))\n",
    "weights = np.random.randn(3)\n",
    "row, weights"
   ]
  },
  {
   "cell_type": "code",
   "execution_count": 27,
   "id": "adjustable-quarterly",
   "metadata": {},
   "outputs": [
    {
     "data": {
      "text/plain": [
       "array([1.5643167])"
      ]
     },
     "execution_count": 27,
     "metadata": {},
     "output_type": "execute_result"
    }
   ],
   "source": [
    "row @ weights"
   ]
  },
  {
   "cell_type": "code",
   "execution_count": 28,
   "id": "entertaining-topic",
   "metadata": {},
   "outputs": [
    {
     "data": {
      "text/plain": [
       "array([1.5643167])"
      ]
     },
     "execution_count": 28,
     "metadata": {},
     "output_type": "execute_result"
    }
   ],
   "source": [
    "np.dot(row, weights)"
   ]
  },
  {
   "cell_type": "code",
   "execution_count": 62,
   "id": "lovely-adobe",
   "metadata": {},
   "outputs": [],
   "source": [
    "def SGD(X_tr, Y_tr, X_dev=[], Y_dev=[], lr=0.1, alpha=0.00001, epochs=5, tolerance=0.0001, print_progress=True):\n",
    "    train_loss_history, val_loss_history = [], []\n",
    "    num_features = X_tr.shape[1]\n",
    "    #weights = np.zeros(shape=(num_features,), dtype=np.float64)\n",
    "    weights = np.random.randn(num_features)\n",
    "    #clip_value = 1e-9\n",
    "    #X_tr = np.clip(X_tr, clip_value, 1-clip_value)\n",
    "    mms = MinMaxScaler()\n",
    "    #mms = StandardScaler()\n",
    "    X_tr = mms.fit_transform(X_tr)\n",
    "    for epoch in range(epochs):\n",
    "        indices = np.arange(X_tr.shape[0])\n",
    "        np.random.shuffle(indices)\n",
    "        X_tr = X_tr[indices]\n",
    "        Y_tr = Y_tr[indices]\n",
    "\n",
    "        # training loop\n",
    "        train_loss = 0\n",
    "        for idx, row in enumerate(X_tr):\n",
    "            row = np.reshape(row, (1, num_features))\n",
    "            train_loss += binary_loss(row, Y_tr[idx], weights, alpha)\n",
    "            for i in range(len(row)):\n",
    "                gradient = (sigmoid(row @ weights) - float(Y_tr[idx])) * row[0, i] + alpha*weights[i]*2\n",
    "                weights[i] -= lr*gradient\n",
    "        train_loss /= X_tr.shape[0]\n",
    "        train_loss_history.append(train_loss)\n",
    "\n",
    "        if len(X_dev) != 0 and len(Y_dev) != 0:\n",
    "            X_dev = mms.transform(X_dev)\n",
    "            val_loss = binary_loss(X_dev, Y_dev, weights, alpha)\n",
    "            val_loss_history.append(val_loss)\n",
    "\n",
    "            if print_progress:\n",
    "                print(f\"Epoch: {epoch+1}\")\n",
    "                print(f\"Training loss:   {train_loss:.4f}\")\n",
    "                print(f\"Validation loss: {val_loss:.4f}\")\n",
    "\n",
    "            # Wang seems to want the training process to stop when the progress becomes no longer significant.\n",
    "            if epoch >=1:\n",
    "                if np.abs(val_loss_history[epoch]-val_loss_history[epoch-1]) < tolerance:\n",
    "                    break\n",
    "\n",
    "    return weights, train_loss_history, val_loss_history"
   ]
  },
  {
   "cell_type": "code",
   "execution_count": 63,
   "id": "limited-banking",
   "metadata": {},
   "outputs": [],
   "source": [
    "w, train_hist, val_hist = SGD(X_train, y_train, X_dev=X_val, Y_dev=y_val, epochs=n_epochs, print_progress=False)"
   ]
  },
  {
   "cell_type": "code",
   "execution_count": 64,
   "id": "anonymous-holmes",
   "metadata": {},
   "outputs": [
    {
     "data": {
      "image/png": "[encoded data removed]",
      "text/plain": [
       "<Figure size 432x288 with 1 Axes>"
      ]
     },
     "metadata": {
      "needs_background": "light"
     },
     "output_type": "display_data"
    }
   ],
   "source": [
    "x = range(1, len(train_hist)+1)\n",
    "plt.plot(x, train_hist, label=\"train_loss\")\n",
    "plt.plot(x, val_hist, label=\"val_loss\")\n",
    "plt.legend();"
   ]
  },
  {
   "cell_type": "code",
   "execution_count": 68,
   "id": "prerequisite-reality",
   "metadata": {},
   "outputs": [
    {
     "data": {
      "text/plain": [
       "array([1, 0, 1, 0, 0, 1, 1, 1, 1, 1, 1, 1, 1, 1, 0, 1, 1, 1, 1, 0, 0, 1,\n",
       "       0, 0, 1, 1, 1])"
      ]
     },
     "execution_count": 68,
     "metadata": {},
     "output_type": "execute_result"
    }
   ],
   "source": [
    "y_val_pred = (sigmoid(X_val @ w) > 0.5).astype(np.int)\n",
    "y_val_pred"
   ]
  },
  {
   "cell_type": "code",
   "execution_count": 69,
   "id": "middle-incidence",
   "metadata": {},
   "outputs": [
    {
     "data": {
      "text/plain": [
       "array([[ 8,  9],\n",
       "       [ 0, 10]])"
      ]
     },
     "execution_count": 69,
     "metadata": {},
     "output_type": "execute_result"
    }
   ],
   "source": [
    "confusion_matrix(y_val, y_val_pred)"
   ]
  },
  {
   "cell_type": "code",
   "execution_count": 70,
   "id": "divided-substitute",
   "metadata": {},
   "outputs": [
    {
     "data": {
      "text/plain": [
       "array([1, 0, 1, 1, 1, 0, 0, 1, 1, 1, 1, 0, 0, 0, 0])"
      ]
     },
     "execution_count": 70,
     "metadata": {},
     "output_type": "execute_result"
    }
   ],
   "source": [
    "y_test_pred = (sigmoid(X_test @ w) > 0.5).astype(np.int)\n",
    "y_test_pred"
   ]
  },
  {
   "cell_type": "code",
   "execution_count": 71,
   "id": "single-louisville",
   "metadata": {},
   "outputs": [
    {
     "data": {
      "text/plain": [
       "array([[7, 5],\n",
       "       [0, 3]])"
      ]
     },
     "execution_count": 71,
     "metadata": {},
     "output_type": "execute_result"
    }
   ],
   "source": [
    "confusion_matrix(y_test, y_test_pred)"
   ]
  },
  {
   "cell_type": "code",
   "execution_count": 58,
   "id": "everyday-oakland",
   "metadata": {},
   "outputs": [],
   "source": [
    "n_epochs = 100\n",
    "#w, train_hist, val_hist = SGD(X_t, y_train, X_dev=X_v, Y_dev=y_val, epochs=n_epochs, print_progress=False)\n",
    "#w, train_hist, val_hist = SGD(X_t, y_train, X_dev=X_v, Y_dev=y_val, epochs=n_epochs, print_progress=False, lr=0.04)\n",
    "w, train_hist, val_hist = SGD(X_t, y_train, X_dev=X_v, Y_dev=y_val, epochs=n_epochs, print_progress=False, alpha=0)"
   ]
  },
  {
   "cell_type": "code",
   "execution_count": 59,
   "id": "timely-ticket",
   "metadata": {},
   "outputs": [
    {
     "data": {
      "image/png": "[encoded data removed]",
      "text/plain": [
       "<Figure size 432x288 with 1 Axes>"
      ]
     },
     "metadata": {
      "needs_background": "light"
     },
     "output_type": "display_data"
    }
   ],
   "source": [
    "x = range(1, len(train_hist)+1)\n",
    "plt.plot(x, train_hist, label=\"train_loss\")\n",
    "plt.plot(x, val_hist, label=\"val_loss\")\n",
    "plt.legend();"
   ]
  },
  {
   "cell_type": "code",
   "execution_count": 60,
   "id": "found-clothing",
   "metadata": {},
   "outputs": [
    {
     "data": {
      "image/png": "[encoded data removed]",
      "text/plain": [
       "<Figure size 432x288 with 1 Axes>"
      ]
     },
     "metadata": {
      "needs_background": "light"
     },
     "output_type": "display_data"
    }
   ],
   "source": [
    "x = range(1, len(train_hist)+1)\n",
    "plt.plot(x, train_hist, label=\"train_loss\")\n",
    "plt.legend();"
   ]
  },
  {
   "cell_type": "markdown",
   "id": "broke-editing",
   "metadata": {},
   "source": [
    "### Curious. I cannot seem to spot the bug.\n",
    "Let's try with [`sklearn.linear_model.SGDClassifier`](https://scikit-learn.org/stable/modules/generated/sklearn.linear_model.SGDClassifier.html)"
   ]
  },
  {
   "cell_type": "code",
   "execution_count": 48,
   "id": "based-fireplace",
   "metadata": {},
   "outputs": [],
   "source": [
    "from sklearn.linear_model import SGDClassifier"
   ]
  },
  {
   "cell_type": "code",
   "execution_count": 50,
   "id": "burning-vancouver",
   "metadata": {},
   "outputs": [
    {
     "data": {
      "text/plain": [
       "SGDClassifier(loss='log')"
      ]
     },
     "execution_count": 50,
     "metadata": {},
     "output_type": "execute_result"
    }
   ],
   "source": [
    "clf = SGDClassifier(loss=\"log\")\n",
    "clf.fit(X_train, y_train)"
   ]
  },
  {
   "cell_type": "code",
   "execution_count": 51,
   "id": "proud-likelihood",
   "metadata": {},
   "outputs": [
    {
     "data": {
      "text/plain": [
       "array([[12,  0],\n",
       "       [ 2,  1]])"
      ]
     },
     "execution_count": 51,
     "metadata": {},
     "output_type": "execute_result"
    }
   ],
   "source": [
    "y_test_pred = clf.predict(X_test)\n",
    "confusion_matrix(y_test, y_test_pred)"
   ]
  },
  {
   "cell_type": "code",
   "execution_count": 52,
   "id": "realistic-steps",
   "metadata": {},
   "outputs": [
    {
     "data": {
      "text/plain": [
       "array([[17,  0],\n",
       "       [ 5,  5]])"
      ]
     },
     "execution_count": 52,
     "metadata": {},
     "output_type": "execute_result"
    }
   ],
   "source": [
    "y_val_pred = clf.predict(X_val)\n",
    "confusion_matrix(y_val, y_val_pred)"
   ]
  },
  {
   "cell_type": "code",
   "execution_count": null,
   "id": "lined-backing",
   "metadata": {},
   "outputs": [],
   "source": []
  }
 ],
 "metadata": {
  "kernelspec": {
   "display_name": "Python 3",
   "language": "python",
   "name": "python3"
  },
  "language_info": {
   "codemirror_mode": {
    "name": "ipython",
    "version": 3
   },
   "file_extension": ".py",
   "mimetype": "text/x-python",
   "name": "python",
   "nbconvert_exporter": "python",
   "pygments_lexer": "ipython3",
   "version": "3.7.9"
  }
 },
 "nbformat": 4,
 "nbformat_minor": 5
}
