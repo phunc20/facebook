{
 "cells": [
  {
   "cell_type": "code",
   "execution_count": 109,
   "id": "diverse-growth",
   "metadata": {},
   "outputs": [],
   "source": [
    "from sklearn import datasets\n",
    "import numpy as np"
   ]
  },
  {
   "cell_type": "code",
   "execution_count": 110,
   "id": "alone-spider",
   "metadata": {},
   "outputs": [
    {
     "data": {
      "text/plain": [
       "((150, 1), (150,))"
      ]
     },
     "execution_count": 110,
     "metadata": {},
     "output_type": "execute_result"
    }
   ],
   "source": [
    "iris = datasets.load_iris()\n",
    "X = iris[\"data\"][:,3:]  # petal width\n",
    "#X = iris[\"data\"][:,:]  # petal width\n",
    "y = (iris[\"target\"]==2).astype(np.int)\n",
    "X.shape, y.shape"
   ]
  },
  {
   "cell_type": "code",
   "execution_count": 111,
   "id": "realistic-section",
   "metadata": {},
   "outputs": [
    {
     "data": {
      "text/plain": [
       "((108, 1), (27, 1), (15, 1))"
      ]
     },
     "execution_count": 111,
     "metadata": {},
     "output_type": "execute_result"
    }
   ],
   "source": [
    "from sklearn.model_selection import train_test_split\n",
    "\n",
    "X_train, X_test, y_train, y_test = train_test_split(X, y, test_size=0.1, random_state=42)\n",
    "X_train, X_val, y_train, y_val = train_test_split(X_train, y_train, test_size=0.2, random_state=42)\n",
    "X_train.shape, X_val.shape, X_test.shape"
   ]
  },
  {
   "cell_type": "code",
   "execution_count": 112,
   "id": "living-present",
   "metadata": {},
   "outputs": [],
   "source": [
    "def sigmoid(z):\n",
    "    return 1 / (1 + np.exp(-z))"
   ]
  },
  {
   "cell_type": "code",
   "execution_count": 113,
   "id": "super-abuse",
   "metadata": {},
   "outputs": [],
   "source": [
    "def binary_loss(X, Y, weights, alpha=0.00001):\n",
    "    \"\"\"\n",
    "    X.shape = (num_instances, num_features)\n",
    "    Y.shape = (num_instances,)\n",
    "    weights.shape = (num_features,)\n",
    "    \"\"\"\n",
    "    z = np.dot(X, weights)\n",
    "    h = sigmoid(z)\n",
    "    total_cost = (-Y*np.log(h) - (1-Y)*np.log(1-h)).mean() + alpha * np.sum(np.dot(weights, weights.T))\n",
    "    return total_cost"
   ]
  },
  {
   "cell_type": "markdown",
   "id": "featured-found",
   "metadata": {},
   "source": [
    "### `np.dot()`\n",
    "I don't use `np.dot()` often. Instead, I use matrix product more often (`@`). Let's review what `np.dot()` does."
   ]
  },
  {
   "cell_type": "code",
   "execution_count": 114,
   "id": "third-commitment",
   "metadata": {},
   "outputs": [
    {
     "data": {
      "text/plain": [
       "((10, 3), (3,))"
      ]
     },
     "execution_count": 114,
     "metadata": {},
     "output_type": "execute_result"
    }
   ],
   "source": [
    "X = np.random.rand(10, 3)\n",
    "weights = np.random.rand(3)\n",
    "X.shape, weights.shape"
   ]
  },
  {
   "cell_type": "code",
   "execution_count": 115,
   "id": "rocky-creation",
   "metadata": {},
   "outputs": [
    {
     "data": {
      "text/plain": [
       "(10,)"
      ]
     },
     "execution_count": 115,
     "metadata": {},
     "output_type": "execute_result"
    }
   ],
   "source": [
    "z = np.dot(X, weights)\n",
    "z.shape"
   ]
  },
  {
   "cell_type": "code",
   "execution_count": 116,
   "id": "personalized-trademark",
   "metadata": {},
   "outputs": [
    {
     "data": {
      "text/plain": [
       "((10,), (10,))"
      ]
     },
     "execution_count": 116,
     "metadata": {},
     "output_type": "execute_result"
    }
   ],
   "source": [
    "(X @ weights).shape, sigmoid(X @ weights).shape "
   ]
  },
  {
   "cell_type": "code",
   "execution_count": 117,
   "id": "fifth-regard",
   "metadata": {},
   "outputs": [
    {
     "data": {
      "text/plain": [
       "0.833945209486306"
      ]
     },
     "execution_count": 117,
     "metadata": {},
     "output_type": "execute_result"
    }
   ],
   "source": [
    "np.dot(weights, weights.T)"
   ]
  },
  {
   "cell_type": "code",
   "execution_count": 118,
   "id": "fabulous-laundry",
   "metadata": {},
   "outputs": [
    {
     "data": {
      "text/plain": [
       "True"
      ]
     },
     "execution_count": 118,
     "metadata": {},
     "output_type": "execute_result"
    }
   ],
   "source": [
    "np.sum(np.dot(weights, weights.T)) == weights.T @ weights"
   ]
  },
  {
   "cell_type": "markdown",
   "id": "indonesian-rapid",
   "metadata": {},
   "source": [
    "### Back to Yang Wang's code"
   ]
  },
  {
   "cell_type": "code",
   "execution_count": 119,
   "id": "dominican-father",
   "metadata": {},
   "outputs": [],
   "source": [
    "from sklearn.preprocessing import MinMaxScaler, StandardScaler\n",
    "\n",
    "def SGD(X_tr, Y_tr, X_dev=[], Y_dev=[], lr=0.1, alpha=0.00001, epochs=5, tolerance=0.0001, print_progress=True):\n",
    "    train_loss_history, val_loss_history = [], []\n",
    "    num_features = X_tr.shape[1]\n",
    "    weights = np.zeros(shape=(num_features,), dtype=np.float64)\n",
    "    clip_value = 1e-9\n",
    "    X_tr = np.clip(X_tr, clip_value, 1-clip_value)\n",
    "    mms = MinMaxScaler()\n",
    "    #mms = StandardScaler()\n",
    "    X_tr = mms.fit_transform(X_tr)\n",
    "    for epoch in range(epochs):\n",
    "        indices = np.arange(X_tr.shape[0])\n",
    "        np.random.shuffle(indices)\n",
    "        X_tr = X_tr[indices]\n",
    "        Y_tr = Y_tr[indices]\n",
    "\n",
    "        # training loop\n",
    "        train_loss = 0\n",
    "        for idx, row in enumerate(X_tr):\n",
    "            row = np.reshape(row, (1, num_features))\n",
    "            train_loss += binary_loss(row, Y_tr[idx], weights, alpha)\n",
    "            for i in range(len(row)):\n",
    "                gradient = (sigmoid(row @ weights) - float(Y_tr[idx])) * row[0, i] + alpha*weights[i]\n",
    "                weights[i] = weights[i] - lr*gradient\n",
    "        train_loss /= X_tr.shape[0]\n",
    "        train_loss_history.append(train_loss)\n",
    "\n",
    "        if len(X_dev) != 0 and len(Y_dev) != 0:\n",
    "            X_dev = mms.transform(X_dev)\n",
    "            val_loss = binary_loss(X_dev, Y_dev, weights, alpha)\n",
    "            val_loss_history.append(val_loss)\n",
    "\n",
    "            if print_progress:\n",
    "                print(f\"Epoch: {epoch+1}\")\n",
    "                print(f\"Training loss:   {train_loss:.4f}\")\n",
    "                print(f\"Validation loss: {val_loss:.4f}\")\n",
    "\n",
    "            # Stopper training des que val_loss ne decroit plus.\n",
    "            if epoch >=1:\n",
    "                if np.abs(val_loss_history[epoch]-val_loss_history[epoch-1]) < tolerance:\n",
    "                    break\n",
    "\n",
    "    return weights, train_loss_history, val_loss_history"
   ]
  },
  {
   "cell_type": "code",
   "execution_count": 120,
   "id": "exterior-deadline",
   "metadata": {},
   "outputs": [
    {
     "name": "stderr",
     "output_type": "stream",
     "text": [
      "/home/phunc20/.config/miniconda3/envs/homl-1e/lib/python3.7/site-packages/ipykernel_launcher.py:9: RuntimeWarning: divide by zero encountered in log\n",
      "  if __name__ == '__main__':\n",
      "/home/phunc20/.config/miniconda3/envs/homl-1e/lib/python3.7/site-packages/ipykernel_launcher.py:9: RuntimeWarning: divide by zero encountered in log\n",
      "  if __name__ == '__main__':\n",
      "/home/phunc20/.config/miniconda3/envs/homl-1e/lib/python3.7/site-packages/ipykernel_launcher.py:9: RuntimeWarning: divide by zero encountered in log\n",
      "  if __name__ == '__main__':\n",
      "/home/phunc20/.config/miniconda3/envs/homl-1e/lib/python3.7/site-packages/ipykernel_launcher.py:41: RuntimeWarning: invalid value encountered in double_scalars\n",
      "/home/phunc20/.config/miniconda3/envs/homl-1e/lib/python3.7/site-packages/ipykernel_launcher.py:9: RuntimeWarning: divide by zero encountered in log\n",
      "  if __name__ == '__main__':\n",
      "/home/phunc20/.config/miniconda3/envs/homl-1e/lib/python3.7/site-packages/ipykernel_launcher.py:41: RuntimeWarning: invalid value encountered in double_scalars\n",
      "/home/phunc20/.config/miniconda3/envs/homl-1e/lib/python3.7/site-packages/ipykernel_launcher.py:9: RuntimeWarning: divide by zero encountered in log\n",
      "  if __name__ == '__main__':\n",
      "/home/phunc20/.config/miniconda3/envs/homl-1e/lib/python3.7/site-packages/ipykernel_launcher.py:9: RuntimeWarning: invalid value encountered in multiply\n",
      "  if __name__ == '__main__':\n",
      "/home/phunc20/.config/miniconda3/envs/homl-1e/lib/python3.7/site-packages/ipykernel_launcher.py:9: RuntimeWarning: divide by zero encountered in log\n",
      "  if __name__ == '__main__':\n",
      "/home/phunc20/.config/miniconda3/envs/homl-1e/lib/python3.7/site-packages/ipykernel_launcher.py:9: RuntimeWarning: divide by zero encountered in log\n",
      "  if __name__ == '__main__':\n",
      "/home/phunc20/.config/miniconda3/envs/homl-1e/lib/python3.7/site-packages/ipykernel_launcher.py:41: RuntimeWarning: invalid value encountered in double_scalars\n",
      "/home/phunc20/.config/miniconda3/envs/homl-1e/lib/python3.7/site-packages/ipykernel_launcher.py:9: RuntimeWarning: divide by zero encountered in log\n",
      "  if __name__ == '__main__':\n",
      "/home/phunc20/.config/miniconda3/envs/homl-1e/lib/python3.7/site-packages/ipykernel_launcher.py:9: RuntimeWarning: divide by zero encountered in log\n",
      "  if __name__ == '__main__':\n",
      "/home/phunc20/.config/miniconda3/envs/homl-1e/lib/python3.7/site-packages/ipykernel_launcher.py:9: RuntimeWarning: invalid value encountered in multiply\n",
      "  if __name__ == '__main__':\n",
      "/home/phunc20/.config/miniconda3/envs/homl-1e/lib/python3.7/site-packages/ipykernel_launcher.py:9: RuntimeWarning: divide by zero encountered in log\n",
      "  if __name__ == '__main__':\n",
      "/home/phunc20/.config/miniconda3/envs/homl-1e/lib/python3.7/site-packages/ipykernel_launcher.py:9: RuntimeWarning: divide by zero encountered in log\n",
      "  if __name__ == '__main__':\n",
      "/home/phunc20/.config/miniconda3/envs/homl-1e/lib/python3.7/site-packages/ipykernel_launcher.py:9: RuntimeWarning: invalid value encountered in multiply\n",
      "  if __name__ == '__main__':\n",
      "/home/phunc20/.config/miniconda3/envs/homl-1e/lib/python3.7/site-packages/ipykernel_launcher.py:9: RuntimeWarning: divide by zero encountered in log\n",
      "  if __name__ == '__main__':\n",
      "/home/phunc20/.config/miniconda3/envs/homl-1e/lib/python3.7/site-packages/ipykernel_launcher.py:9: RuntimeWarning: divide by zero encountered in log\n",
      "  if __name__ == '__main__':\n",
      "/home/phunc20/.config/miniconda3/envs/homl-1e/lib/python3.7/site-packages/ipykernel_launcher.py:41: RuntimeWarning: invalid value encountered in double_scalars\n",
      "/home/phunc20/.config/miniconda3/envs/homl-1e/lib/python3.7/site-packages/ipykernel_launcher.py:9: RuntimeWarning: divide by zero encountered in log\n",
      "  if __name__ == '__main__':\n",
      "/home/phunc20/.config/miniconda3/envs/homl-1e/lib/python3.7/site-packages/ipykernel_launcher.py:41: RuntimeWarning: invalid value encountered in double_scalars\n",
      "/home/phunc20/.config/miniconda3/envs/homl-1e/lib/python3.7/site-packages/ipykernel_launcher.py:9: RuntimeWarning: divide by zero encountered in log\n",
      "  if __name__ == '__main__':\n",
      "/home/phunc20/.config/miniconda3/envs/homl-1e/lib/python3.7/site-packages/ipykernel_launcher.py:41: RuntimeWarning: invalid value encountered in double_scalars\n",
      "/home/phunc20/.config/miniconda3/envs/homl-1e/lib/python3.7/site-packages/ipykernel_launcher.py:9: RuntimeWarning: divide by zero encountered in log\n",
      "  if __name__ == '__main__':\n",
      "/home/phunc20/.config/miniconda3/envs/homl-1e/lib/python3.7/site-packages/ipykernel_launcher.py:9: RuntimeWarning: invalid value encountered in multiply\n",
      "  if __name__ == '__main__':\n",
      "/home/phunc20/.config/miniconda3/envs/homl-1e/lib/python3.7/site-packages/ipykernel_launcher.py:9: RuntimeWarning: divide by zero encountered in log\n",
      "  if __name__ == '__main__':\n",
      "/home/phunc20/.config/miniconda3/envs/homl-1e/lib/python3.7/site-packages/ipykernel_launcher.py:9: RuntimeWarning: invalid value encountered in multiply\n",
      "  if __name__ == '__main__':\n",
      "/home/phunc20/.config/miniconda3/envs/homl-1e/lib/python3.7/site-packages/ipykernel_launcher.py:9: RuntimeWarning: divide by zero encountered in log\n",
      "  if __name__ == '__main__':\n",
      "/home/phunc20/.config/miniconda3/envs/homl-1e/lib/python3.7/site-packages/ipykernel_launcher.py:9: RuntimeWarning: divide by zero encountered in log\n",
      "  if __name__ == '__main__':\n",
      "/home/phunc20/.config/miniconda3/envs/homl-1e/lib/python3.7/site-packages/ipykernel_launcher.py:9: RuntimeWarning: invalid value encountered in multiply\n",
      "  if __name__ == '__main__':\n",
      "/home/phunc20/.config/miniconda3/envs/homl-1e/lib/python3.7/site-packages/ipykernel_launcher.py:9: RuntimeWarning: divide by zero encountered in log\n",
      "  if __name__ == '__main__':\n",
      "/home/phunc20/.config/miniconda3/envs/homl-1e/lib/python3.7/site-packages/ipykernel_launcher.py:9: RuntimeWarning: divide by zero encountered in log\n",
      "  if __name__ == '__main__':\n",
      "/home/phunc20/.config/miniconda3/envs/homl-1e/lib/python3.7/site-packages/ipykernel_launcher.py:41: RuntimeWarning: invalid value encountered in double_scalars\n",
      "/home/phunc20/.config/miniconda3/envs/homl-1e/lib/python3.7/site-packages/ipykernel_launcher.py:9: RuntimeWarning: divide by zero encountered in log\n",
      "  if __name__ == '__main__':\n",
      "/home/phunc20/.config/miniconda3/envs/homl-1e/lib/python3.7/site-packages/ipykernel_launcher.py:41: RuntimeWarning: invalid value encountered in double_scalars\n",
      "/home/phunc20/.config/miniconda3/envs/homl-1e/lib/python3.7/site-packages/ipykernel_launcher.py:2: RuntimeWarning: overflow encountered in exp\n",
      "  \n",
      "/home/phunc20/.config/miniconda3/envs/homl-1e/lib/python3.7/site-packages/ipykernel_launcher.py:9: RuntimeWarning: divide by zero encountered in log\n",
      "  if __name__ == '__main__':\n",
      "/home/phunc20/.config/miniconda3/envs/homl-1e/lib/python3.7/site-packages/ipykernel_launcher.py:41: RuntimeWarning: invalid value encountered in double_scalars\n",
      "/home/phunc20/.config/miniconda3/envs/homl-1e/lib/python3.7/site-packages/ipykernel_launcher.py:2: RuntimeWarning: overflow encountered in exp\n",
      "  \n",
      "/home/phunc20/.config/miniconda3/envs/homl-1e/lib/python3.7/site-packages/ipykernel_launcher.py:9: RuntimeWarning: divide by zero encountered in log\n",
      "  if __name__ == '__main__':\n",
      "/home/phunc20/.config/miniconda3/envs/homl-1e/lib/python3.7/site-packages/ipykernel_launcher.py:41: RuntimeWarning: invalid value encountered in double_scalars\n",
      "/home/phunc20/.config/miniconda3/envs/homl-1e/lib/python3.7/site-packages/ipykernel_launcher.py:2: RuntimeWarning: overflow encountered in exp\n",
      "  \n",
      "/home/phunc20/.config/miniconda3/envs/homl-1e/lib/python3.7/site-packages/ipykernel_launcher.py:9: RuntimeWarning: divide by zero encountered in log\n",
      "  if __name__ == '__main__':\n",
      "/home/phunc20/.config/miniconda3/envs/homl-1e/lib/python3.7/site-packages/ipykernel_launcher.py:41: RuntimeWarning: invalid value encountered in double_scalars\n",
      "/home/phunc20/.config/miniconda3/envs/homl-1e/lib/python3.7/site-packages/ipykernel_launcher.py:2: RuntimeWarning: overflow encountered in exp\n",
      "  \n",
      "/home/phunc20/.config/miniconda3/envs/homl-1e/lib/python3.7/site-packages/ipykernel_launcher.py:9: RuntimeWarning: divide by zero encountered in log\n",
      "  if __name__ == '__main__':\n",
      "/home/phunc20/.config/miniconda3/envs/homl-1e/lib/python3.7/site-packages/ipykernel_launcher.py:41: RuntimeWarning: invalid value encountered in double_scalars\n",
      "/home/phunc20/.config/miniconda3/envs/homl-1e/lib/python3.7/site-packages/ipykernel_launcher.py:9: RuntimeWarning: divide by zero encountered in log\n",
      "  if __name__ == '__main__':\n",
      "/home/phunc20/.config/miniconda3/envs/homl-1e/lib/python3.7/site-packages/ipykernel_launcher.py:9: RuntimeWarning: invalid value encountered in multiply\n",
      "  if __name__ == '__main__':\n",
      "/home/phunc20/.config/miniconda3/envs/homl-1e/lib/python3.7/site-packages/ipykernel_launcher.py:9: RuntimeWarning: divide by zero encountered in log\n",
      "  if __name__ == '__main__':\n",
      "/home/phunc20/.config/miniconda3/envs/homl-1e/lib/python3.7/site-packages/ipykernel_launcher.py:9: RuntimeWarning: invalid value encountered in multiply\n",
      "  if __name__ == '__main__':\n",
      "/home/phunc20/.config/miniconda3/envs/homl-1e/lib/python3.7/site-packages/ipykernel_launcher.py:2: RuntimeWarning: overflow encountered in exp\n",
      "  \n",
      "/home/phunc20/.config/miniconda3/envs/homl-1e/lib/python3.7/site-packages/ipykernel_launcher.py:9: RuntimeWarning: divide by zero encountered in log\n",
      "  if __name__ == '__main__':\n",
      "/home/phunc20/.config/miniconda3/envs/homl-1e/lib/python3.7/site-packages/ipykernel_launcher.py:9: RuntimeWarning: invalid value encountered in multiply\n",
      "  if __name__ == '__main__':\n",
      "/home/phunc20/.config/miniconda3/envs/homl-1e/lib/python3.7/site-packages/ipykernel_launcher.py:2: RuntimeWarning: overflow encountered in exp\n",
      "  \n",
      "/home/phunc20/.config/miniconda3/envs/homl-1e/lib/python3.7/site-packages/ipykernel_launcher.py:9: RuntimeWarning: divide by zero encountered in log\n",
      "  if __name__ == '__main__':\n",
      "/home/phunc20/.config/miniconda3/envs/homl-1e/lib/python3.7/site-packages/ipykernel_launcher.py:9: RuntimeWarning: invalid value encountered in multiply\n",
      "  if __name__ == '__main__':\n",
      "/home/phunc20/.config/miniconda3/envs/homl-1e/lib/python3.7/site-packages/ipykernel_launcher.py:2: RuntimeWarning: overflow encountered in exp\n",
      "  \n",
      "/home/phunc20/.config/miniconda3/envs/homl-1e/lib/python3.7/site-packages/ipykernel_launcher.py:9: RuntimeWarning: divide by zero encountered in log\n",
      "  if __name__ == '__main__':\n",
      "/home/phunc20/.config/miniconda3/envs/homl-1e/lib/python3.7/site-packages/ipykernel_launcher.py:9: RuntimeWarning: invalid value encountered in multiply\n",
      "  if __name__ == '__main__':\n",
      "/home/phunc20/.config/miniconda3/envs/homl-1e/lib/python3.7/site-packages/ipykernel_launcher.py:2: RuntimeWarning: overflow encountered in exp\n",
      "  \n",
      "/home/phunc20/.config/miniconda3/envs/homl-1e/lib/python3.7/site-packages/ipykernel_launcher.py:9: RuntimeWarning: divide by zero encountered in log\n",
      "  if __name__ == '__main__':\n",
      "/home/phunc20/.config/miniconda3/envs/homl-1e/lib/python3.7/site-packages/ipykernel_launcher.py:9: RuntimeWarning: invalid value encountered in multiply\n",
      "  if __name__ == '__main__':\n",
      "/home/phunc20/.config/miniconda3/envs/homl-1e/lib/python3.7/site-packages/ipykernel_launcher.py:2: RuntimeWarning: overflow encountered in exp\n",
      "  \n",
      "/home/phunc20/.config/miniconda3/envs/homl-1e/lib/python3.7/site-packages/ipykernel_launcher.py:9: RuntimeWarning: divide by zero encountered in log\n",
      "  if __name__ == '__main__':\n",
      "/home/phunc20/.config/miniconda3/envs/homl-1e/lib/python3.7/site-packages/ipykernel_launcher.py:9: RuntimeWarning: invalid value encountered in multiply\n",
      "  if __name__ == '__main__':\n",
      "/home/phunc20/.config/miniconda3/envs/homl-1e/lib/python3.7/site-packages/ipykernel_launcher.py:2: RuntimeWarning: overflow encountered in exp\n",
      "  \n",
      "/home/phunc20/.config/miniconda3/envs/homl-1e/lib/python3.7/site-packages/ipykernel_launcher.py:9: RuntimeWarning: divide by zero encountered in log\n",
      "  if __name__ == '__main__':\n",
      "/home/phunc20/.config/miniconda3/envs/homl-1e/lib/python3.7/site-packages/ipykernel_launcher.py:9: RuntimeWarning: invalid value encountered in multiply\n",
      "  if __name__ == '__main__':\n",
      "/home/phunc20/.config/miniconda3/envs/homl-1e/lib/python3.7/site-packages/ipykernel_launcher.py:2: RuntimeWarning: overflow encountered in exp\n",
      "  \n",
      "/home/phunc20/.config/miniconda3/envs/homl-1e/lib/python3.7/site-packages/ipykernel_launcher.py:9: RuntimeWarning: divide by zero encountered in log\n",
      "  if __name__ == '__main__':\n",
      "/home/phunc20/.config/miniconda3/envs/homl-1e/lib/python3.7/site-packages/ipykernel_launcher.py:9: RuntimeWarning: invalid value encountered in multiply\n",
      "  if __name__ == '__main__':\n",
      "/home/phunc20/.config/miniconda3/envs/homl-1e/lib/python3.7/site-packages/ipykernel_launcher.py:2: RuntimeWarning: overflow encountered in exp\n",
      "  \n",
      "/home/phunc20/.config/miniconda3/envs/homl-1e/lib/python3.7/site-packages/ipykernel_launcher.py:9: RuntimeWarning: divide by zero encountered in log\n",
      "  if __name__ == '__main__':\n",
      "/home/phunc20/.config/miniconda3/envs/homl-1e/lib/python3.7/site-packages/ipykernel_launcher.py:9: RuntimeWarning: invalid value encountered in multiply\n",
      "  if __name__ == '__main__':\n",
      "/home/phunc20/.config/miniconda3/envs/homl-1e/lib/python3.7/site-packages/ipykernel_launcher.py:9: RuntimeWarning: divide by zero encountered in log\n",
      "  if __name__ == '__main__':\n",
      "/home/phunc20/.config/miniconda3/envs/homl-1e/lib/python3.7/site-packages/ipykernel_launcher.py:9: RuntimeWarning: invalid value encountered in multiply\n",
      "  if __name__ == '__main__':\n",
      "/home/phunc20/.config/miniconda3/envs/homl-1e/lib/python3.7/site-packages/ipykernel_launcher.py:2: RuntimeWarning: overflow encountered in exp\n",
      "  \n"
     ]
    },
    {
     "name": "stderr",
     "output_type": "stream",
     "text": [
      "/home/phunc20/.config/miniconda3/envs/homl-1e/lib/python3.7/site-packages/ipykernel_launcher.py:9: RuntimeWarning: divide by zero encountered in log\n",
      "  if __name__ == '__main__':\n",
      "/home/phunc20/.config/miniconda3/envs/homl-1e/lib/python3.7/site-packages/ipykernel_launcher.py:9: RuntimeWarning: invalid value encountered in multiply\n",
      "  if __name__ == '__main__':\n",
      "/home/phunc20/.config/miniconda3/envs/homl-1e/lib/python3.7/site-packages/ipykernel_launcher.py:2: RuntimeWarning: overflow encountered in exp\n",
      "  \n",
      "/home/phunc20/.config/miniconda3/envs/homl-1e/lib/python3.7/site-packages/ipykernel_launcher.py:9: RuntimeWarning: divide by zero encountered in log\n",
      "  if __name__ == '__main__':\n",
      "/home/phunc20/.config/miniconda3/envs/homl-1e/lib/python3.7/site-packages/ipykernel_launcher.py:9: RuntimeWarning: invalid value encountered in multiply\n",
      "  if __name__ == '__main__':\n",
      "/home/phunc20/.config/miniconda3/envs/homl-1e/lib/python3.7/site-packages/ipykernel_launcher.py:2: RuntimeWarning: overflow encountered in exp\n",
      "  \n",
      "/home/phunc20/.config/miniconda3/envs/homl-1e/lib/python3.7/site-packages/ipykernel_launcher.py:9: RuntimeWarning: divide by zero encountered in log\n",
      "  if __name__ == '__main__':\n",
      "/home/phunc20/.config/miniconda3/envs/homl-1e/lib/python3.7/site-packages/ipykernel_launcher.py:9: RuntimeWarning: invalid value encountered in multiply\n",
      "  if __name__ == '__main__':\n"
     ]
    }
   ],
   "source": [
    "n_epochs = 100\n",
    "w, train_hist, val_hist = SGD(X_train, y_train, X_dev=X_val, Y_dev=y_val, epochs=n_epochs, print_progress=False)"
   ]
  },
  {
   "cell_type": "code",
   "execution_count": 121,
   "id": "phantom-brief",
   "metadata": {},
   "outputs": [
    {
     "data": {
      "image/png": "[encoded data removed]",
      "text/plain": [
       "<Figure size 432x288 with 1 Axes>"
      ]
     },
     "metadata": {
      "needs_background": "light"
     },
     "output_type": "display_data"
    }
   ],
   "source": [
    "import matplotlib.pyplot as plt\n",
    "x = range(1, len(train_hist)+1)\n",
    "plt.plot(x, train_hist, label=\"train_loss\")\n",
    "plt.plot(x, val_hist, label=\"val_loss\")\n",
    "plt.legend();"
   ]
  },
  {
   "cell_type": "code",
   "execution_count": 122,
   "id": "automotive-probe",
   "metadata": {},
   "outputs": [],
   "source": [
    "#prediction = "
   ]
  }
 ],
 "metadata": {
  "kernelspec": {
   "display_name": "Python 3",
   "language": "python",
   "name": "python3"
  },
  "language_info": {
   "codemirror_mode": {
    "name": "ipython",
    "version": 3
   },
   "file_extension": ".py",
   "mimetype": "text/x-python",
   "name": "python",
   "nbconvert_exporter": "python",
   "pygments_lexer": "ipython3",
   "version": "3.7.9"
  }
 },
 "nbformat": 4,
 "nbformat_minor": 5
}
